{
  "nbformat": 4,
  "nbformat_minor": 0,
  "metadata": {
    "colab": {
      "name": "Chest Xray Pneumonia(Virus or Bacteria) MobileNet",
      "provenance": [],
      "collapsed_sections": [
        "dMhoblcr3OPo"
      ],
      "toc_visible": true
    },
    "kernelspec": {
      "name": "python3",
      "display_name": "Python 3"
    },
    "accelerator": "TPU"
  },
  "cells": [
    {
      "cell_type": "code",
      "metadata": {
        "id": "ZpWGLvD3Op6q",
        "colab_type": "code",
        "colab": {}
      },
      "source": [
        "!pip install tensorflow=='2.2'"
      ],
      "execution_count": null,
      "outputs": []
    },
    {
      "cell_type": "code",
      "metadata": {
        "id": "KHVS8grw86ma",
        "colab_type": "code",
        "colab": {}
      },
      "source": [
        "from __future__ import absolute_import, division, print_function, unicode_literals\n",
        "\n",
        "# Import TensorFlow\n",
        "import tensorflow as tf\n",
        "\n",
        "# Helper libraries\n",
        "import numpy as np\n",
        "import os\n",
        "\n",
        "assert os.environ['COLAB_TPU_ADDR'], 'Make sure to select TPU from Edit > Notebook settings > Hardware accelerator'\n",
        "\n",
        "assert float('.'.join(tf.__version__.split('.')[:2])) >= 1.14, 'Make sure that Tensorflow version is at least 1.14'"
      ],
      "execution_count": null,
      "outputs": []
    },
    {
      "cell_type": "code",
      "metadata": {
        "id": "ASIWJJoGdxpn",
        "colab_type": "code",
        "colab": {}
      },
      "source": [
        "import os\n",
        "import shutil\n",
        "import pandas as pd\n",
        "import numpy as np\n",
        "import itertools\n",
        "import tensorflow\n",
        "\n",
        "import keras\n",
        "from keras import backend as K\n",
        "from keras.layers.core import Dense, Dropout\n",
        "from keras.optimizers import Adam\n",
        "from keras.metrics import categorical_crossentropy\n",
        "from keras.preprocessing.image import ImageDataGenerator\n",
        "from keras.models import Model\n",
        "from keras.callbacks import EarlyStopping, ReduceLROnPlateau, ModelCheckpoint\n",
        "from tensorflow.keras.metrics import categorical_accuracy, top_k_categorical_accuracy\n",
        "\n",
        "\n",
        "from sklearn.utils import shuffle\n",
        "from sklearn.metrics import confusion_matrix\n",
        "from sklearn.model_selection import train_test_split\n",
        "\n",
        "import matplotlib.pyplot as plt\n",
        "%matplotlib inline\n"
      ],
      "execution_count": null,
      "outputs": []
    },
    {
      "cell_type": "code",
      "metadata": {
        "id": "hxzc0V1A0jTL",
        "colab_type": "code",
        "colab": {}
      },
      "source": [
        "from numpy.random import seed\n",
        "seed(101)\n",
        "import tensorflow\n",
        "tensorflow.random.set_seed(101)\n"
      ],
      "execution_count": null,
      "outputs": []
    },
    {
      "cell_type": "code",
      "metadata": {
        "id": "5E4mgWh4zDZI",
        "colab_type": "code",
        "colab": {}
      },
      "source": [
        "# from google.colab import drive\n",
        "# drive.mount('/content/drive',force_remount=True)"
      ],
      "execution_count": null,
      "outputs": []
    },
    {
      "cell_type": "code",
      "metadata": {
        "id": "bXJs0_vBwtIP",
        "colab_type": "code",
        "colab": {}
      },
      "source": [
        "# Making lists for all the images names\n",
        "train_normal_list = os.listdir('/content/drive/My Drive/Colab Notebooks/dataset/train/NORMAL')\n",
        "train_pneu_list = os.listdir('/content/drive/My Drive/Colab Notebooks/dataset/train/PNEUMONIA')\n",
        "val_normal_list = os.listdir('/content/drive/My Drive/Colab Notebooks/dataset/val/NORMAL')\n",
        "val_pneu_list = os.listdir('/content/drive/My Drive/Colab Notebooks/dataset/val/PNEUMONIA')\n",
        "test_normal_list = os.listdir('/content/drive/My Drive/Colab Notebooks/dataset/test/NORMAL')\n",
        "test_pneu_list = os.listdir('/content/drive/My Drive/Colab Notebooks/dataset/test/PNEUMONIA')"
      ],
      "execution_count": null,
      "outputs": []
    },
    {
      "cell_type": "code",
      "metadata": {
        "id": "IH-C6vF5zvpb",
        "colab_type": "code",
        "colab": {
          "base_uri": "https://localhost:8080/",
          "height": 115
        },
        "outputId": "5100242c-279a-4422-98e2-192820d5f5ec"
      },
      "source": [
        "print('train_normal_list',len(train_normal_list))\n",
        "print('train_pneu_list',len(train_pneu_list))\n",
        "print('test_normal_list',len(test_normal_list))\n",
        "print('test_pneu_list',len(test_pneu_list))\n",
        "print('val_normal_list',len(val_normal_list))\n",
        "print('val_pneu_list',len(val_pneu_list))"
      ],
      "execution_count": null,
      "outputs": [
        {
          "output_type": "stream",
          "text": [
            "train_normal_list 1341\n",
            "train_pneu_list 3890\n",
            "test_normal_list 234\n",
            "test_pneu_list 390\n",
            "val_normal_list 8\n",
            "val_pneu_list 8\n"
          ],
          "name": "stdout"
        }
      ]
    },
    {
      "cell_type": "code",
      "metadata": {
        "id": "yl4Uz1rnYvDe",
        "colab_type": "code",
        "colab": {}
      },
      "source": [
        "\n",
        "def assign_pneu_type(x):\n",
        "    x = str(x)\n",
        "    if 'virus' in x:\n",
        "        return 'viral'\n",
        "    if 'bacteria' in x:\n",
        "        return 'bacterial'"
      ],
      "execution_count": null,
      "outputs": []
    },
    {
      "cell_type": "code",
      "metadata": {
        "id": "Sau3qlqJ0zok",
        "colab_type": "code",
        "colab": {}
      },
      "source": [
        "\n",
        "# TRAIN_NORMAL\n",
        "# create the dataframe\n",
        "df_train_normal = pd.DataFrame(train_normal_list, columns=['image_id'])\n",
        "# delete the entry named .DS_Store\n",
        "df_train_normal = df_train_normal[df_train_normal['image_id'] != '.DS_Store']\n",
        "# create a new target column\n",
        "df_train_normal['target'] = 'normal'\n",
        "\n",
        "# TRAIN_PNEU\n",
        "# create the dataframe\n",
        "df_train_pneu = pd.DataFrame(train_pneu_list, columns=['image_id'])\n",
        "# delete the entry named .DS_Store\n",
        "df_train_pneu = df_train_pneu[df_train_pneu['image_id'] != '.DS_Store']\n",
        "# create a target column that's a copy of the image column\n",
        "df_train_pneu['target'] = df_train_pneu['image_id']\n",
        "# apply the function to this target column\n",
        "df_train_pneu['target'] = df_train_pneu['target'].apply(assign_pneu_type)\n",
        "\n",
        "# VAL_NORMAL\n",
        "# create the dataframe\n",
        "df_val_normal = pd.DataFrame(val_normal_list, columns=['image_id'])\n",
        "# delete the entry named .DS_Store\n",
        "df_val_normal = df_val_normal[df_val_normal['image_id'] != '.DS_Store']\n",
        "# create a new target column\n",
        "df_val_normal['target'] = 'normal'\n",
        "\n",
        "\n",
        "# VAL_PNEU\n",
        "# create the dataframe\n",
        "df_val_pneu = pd.DataFrame(val_pneu_list, columns=['image_id'])\n",
        "# delete the entry named .DS_Store\n",
        "df_val_pneu = df_val_pneu[df_val_pneu['image_id'] != '.DS_Store']\n",
        "# create a target column that's a copy of the image column\n",
        "df_val_pneu['target'] = df_val_pneu['image_id']\n",
        "# apply the function to this target column\n",
        "df_val_pneu['target'] = df_val_pneu['target'].apply(assign_pneu_type)\n",
        "\n",
        "\n",
        "# TEST_NORMAL\n",
        "# create the dataframe\n",
        "df_test_normal = pd.DataFrame(test_normal_list, columns=['image_id'])\n",
        "# delete the entry named .DS_Store\n",
        "df_test_normal = df_test_normal[df_test_normal['image_id'] != '.DS_Store']\n",
        "# create a new target column\n",
        "df_test_normal['target'] = 'normal'\n",
        "\n",
        "\n",
        "# TEST_PNEU\n",
        "# create the dataframe\n",
        "df_test_pneu = pd.DataFrame(test_pneu_list, columns=['image_id'])\n",
        "# delete the entry named .DS_Store\n",
        "df_test_pneu = df_test_pneu[df_test_pneu['image_id'] != '.DS_Store']\n",
        "# create a target column that's a copy of the image column\n",
        "df_test_pneu['target'] = df_test_pneu['image_id']\n",
        "# apply the function to this target column\n",
        "df_test_pneu['target'] = df_test_pneu['target'].apply(assign_pneu_type)"
      ],
      "execution_count": null,
      "outputs": []
    },
    {
      "cell_type": "code",
      "metadata": {
        "id": "aumytl2_Y79N",
        "colab_type": "code",
        "colab": {
          "base_uri": "https://localhost:8080/",
          "height": 33
        },
        "outputId": "a5e31c7e-6ed7-445c-9ed4-43d5696ac0a8"
      },
      "source": [
        "df_data = \\\n",
        "pd.concat([df_train_normal,df_train_pneu,df_val_normal,df_val_pneu,df_test_normal,\n",
        "           df_test_pneu],axis=0).reset_index(drop=True)\n",
        "\n",
        "# shuffle\n",
        "df_data = shuffle(df_data)\n",
        "\n",
        "df_data.shape"
      ],
      "execution_count": null,
      "outputs": [
        {
          "output_type": "execute_result",
          "data": {
            "text/plain": [
              "(5871, 2)"
            ]
          },
          "metadata": {
            "tags": []
          },
          "execution_count": 24
        }
      ]
    },
    {
      "cell_type": "code",
      "metadata": {
        "id": "PTtHrGRgblqT",
        "colab_type": "code",
        "colab": {
          "base_uri": "https://localhost:8080/",
          "height": 191
        },
        "outputId": "133246ce-621e-411d-f6a3-d1336a165adc"
      },
      "source": [
        "df_data.head()"
      ],
      "execution_count": null,
      "outputs": [
        {
          "output_type": "execute_result",
          "data": {
            "text/html": [
              "<div>\n",
              "<style scoped>\n",
              "    .dataframe tbody tr th:only-of-type {\n",
              "        vertical-align: middle;\n",
              "    }\n",
              "\n",
              "    .dataframe tbody tr th {\n",
              "        vertical-align: top;\n",
              "    }\n",
              "\n",
              "    .dataframe thead th {\n",
              "        text-align: right;\n",
              "    }\n",
              "</style>\n",
              "<table border=\"1\" class=\"dataframe\">\n",
              "  <thead>\n",
              "    <tr style=\"text-align: right;\">\n",
              "      <th></th>\n",
              "      <th>image_id</th>\n",
              "      <th>target</th>\n",
              "    </tr>\n",
              "  </thead>\n",
              "  <tbody>\n",
              "    <tr>\n",
              "      <th>1518</th>\n",
              "      <td>person841_virus_1481.jpeg</td>\n",
              "      <td>viral</td>\n",
              "    </tr>\n",
              "    <tr>\n",
              "      <th>4437</th>\n",
              "      <td>person1462_virus_2512.jpeg</td>\n",
              "      <td>viral</td>\n",
              "    </tr>\n",
              "    <tr>\n",
              "      <th>3663</th>\n",
              "      <td>person1528_virus_2662.jpeg</td>\n",
              "      <td>viral</td>\n",
              "    </tr>\n",
              "    <tr>\n",
              "      <th>1628</th>\n",
              "      <td>person942_virus_1611.jpeg</td>\n",
              "      <td>viral</td>\n",
              "    </tr>\n",
              "    <tr>\n",
              "      <th>258</th>\n",
              "      <td>NORMAL2-IM-1118-0001.jpeg</td>\n",
              "      <td>normal</td>\n",
              "    </tr>\n",
              "  </tbody>\n",
              "</table>\n",
              "</div>"
            ],
            "text/plain": [
              "                        image_id  target\n",
              "1518   person841_virus_1481.jpeg   viral\n",
              "4437  person1462_virus_2512.jpeg   viral\n",
              "3663  person1528_virus_2662.jpeg   viral\n",
              "1628   person942_virus_1611.jpeg   viral\n",
              "258    NORMAL2-IM-1118-0001.jpeg  normal"
            ]
          },
          "metadata": {
            "tags": []
          },
          "execution_count": 25
        }
      ]
    },
    {
      "cell_type": "code",
      "metadata": {
        "id": "qhU6dEt3eeCa",
        "colab_type": "code",
        "colab": {
          "base_uri": "https://localhost:8080/",
          "height": 82
        },
        "outputId": "c88c714a-20ea-4db6-bab1-54a44c1d3da9"
      },
      "source": [
        "df_data['target'].value_counts()"
      ],
      "execution_count": null,
      "outputs": [
        {
          "output_type": "execute_result",
          "data": {
            "text/plain": [
              "bacterial    2788\n",
              "normal       1583\n",
              "viral        1500\n",
              "Name: target, dtype: int64"
            ]
          },
          "metadata": {
            "tags": []
          },
          "execution_count": 26
        }
      ]
    },
    {
      "cell_type": "code",
      "metadata": {
        "id": "vWOb-EGUeob7",
        "colab_type": "code",
        "colab": {}
      },
      "source": [
        "base_dir='base_dir'\n",
        "os.mkdir(base_dir)\n",
        "# shutil.rmtree(base_dir)"
      ],
      "execution_count": null,
      "outputs": []
    },
    {
      "cell_type": "code",
      "metadata": {
        "id": "PMKcjLTQe22s",
        "colab_type": "code",
        "colab": {}
      },
      "source": [
        "train_dir=os.path.join(base_dir,'train_dir')\n",
        "os.mkdir(train_dir)\n",
        "\n",
        "val_dir=os.path.join(base_dir,'val_dir')\n",
        "os.mkdir(val_dir)\n",
        "\n",
        "# [CREATE FOLDERS INSIDE THE TRAIN AND VALIDATION FOLDERS]\n",
        "# Inside each folder we create seperate folders for each class\n",
        "\n",
        "# create new folders inside train_dir\n",
        "normal = os.path.join(train_dir, 'normal')\n",
        "os.mkdir(normal)\n",
        "bacterial = os.path.join(train_dir, 'bacterial')\n",
        "os.mkdir(bacterial)\n",
        "viral = os.path.join(train_dir, 'viral')\n",
        "os.mkdir(viral)\n",
        "\n",
        "\n",
        "\n",
        "# create new folders inside val_dir\n",
        "normal = os.path.join(val_dir, 'normal')\n",
        "os.mkdir(normal)\n",
        "bacterial = os.path.join(val_dir, 'bacterial')\n",
        "os.mkdir(bacterial)\n",
        "viral = os.path.join(val_dir, 'viral')\n",
        "os.mkdir(viral)"
      ],
      "execution_count": null,
      "outputs": []
    },
    {
      "cell_type": "code",
      "metadata": {
        "id": "58XShVALf7CX",
        "colab_type": "code",
        "colab": {
          "base_uri": "https://localhost:8080/",
          "height": 33
        },
        "outputId": "0e83a737-909f-4426-ffd5-acf3bd6c119d"
      },
      "source": [
        "os.listdir('base_dir/train_dir')\n"
      ],
      "execution_count": null,
      "outputs": [
        {
          "output_type": "execute_result",
          "data": {
            "text/plain": [
              "['normal', 'viral', 'bacterial']"
            ]
          },
          "metadata": {
            "tags": []
          },
          "execution_count": 29
        }
      ]
    },
    {
      "cell_type": "code",
      "metadata": {
        "id": "yzoisjf9f-Q0",
        "colab_type": "code",
        "colab": {
          "base_uri": "https://localhost:8080/",
          "height": 50
        },
        "outputId": "ca043dc9-9cfb-4b8e-a142-296545f3cd82"
      },
      "source": [
        "y = df_data['target']\n",
        "\n",
        "df_train, df_val = train_test_split(df_data, test_size=0.15, random_state=101, stratify=y)\n",
        "\n",
        "print(df_train.shape)\n",
        "print(df_val.shape)"
      ],
      "execution_count": null,
      "outputs": [
        {
          "output_type": "stream",
          "text": [
            "(4990, 2)\n",
            "(881, 2)\n"
          ],
          "name": "stdout"
        }
      ]
    },
    {
      "cell_type": "code",
      "metadata": {
        "id": "6cSGBugSiX_3",
        "colab_type": "code",
        "colab": {
          "base_uri": "https://localhost:8080/",
          "height": 82
        },
        "outputId": "f50198df-1832-47f0-e3f2-183b9292d8ca"
      },
      "source": [
        "# check df_train class distribution\n",
        "df_train['target'].value_counts()"
      ],
      "execution_count": null,
      "outputs": [
        {
          "output_type": "execute_result",
          "data": {
            "text/plain": [
              "bacterial    2370\n",
              "normal       1345\n",
              "viral        1275\n",
              "Name: target, dtype: int64"
            ]
          },
          "metadata": {
            "tags": []
          },
          "execution_count": 31
        }
      ]
    },
    {
      "cell_type": "code",
      "metadata": {
        "id": "MaWz-pO0iaKV",
        "colab_type": "code",
        "colab": {
          "base_uri": "https://localhost:8080/",
          "height": 82
        },
        "outputId": "eb45dcb5-6f47-410f-e559-c13b6561242a"
      },
      "source": [
        "# check df_val class distribution\n",
        "df_val['target'].value_counts()"
      ],
      "execution_count": null,
      "outputs": [
        {
          "output_type": "execute_result",
          "data": {
            "text/plain": [
              "bacterial    418\n",
              "normal       238\n",
              "viral        225\n",
              "Name: target, dtype: int64"
            ]
          },
          "metadata": {
            "tags": []
          },
          "execution_count": 32
        }
      ]
    },
    {
      "cell_type": "code",
      "metadata": {
        "id": "wxy7WkFLioz7",
        "colab_type": "code",
        "colab": {
          "base_uri": "https://localhost:8080/",
          "height": 191
        },
        "outputId": "d230c577-2962-4cd8-937f-bf0fb7a31b10"
      },
      "source": [
        "df_data.head()"
      ],
      "execution_count": null,
      "outputs": [
        {
          "output_type": "execute_result",
          "data": {
            "text/html": [
              "<div>\n",
              "<style scoped>\n",
              "    .dataframe tbody tr th:only-of-type {\n",
              "        vertical-align: middle;\n",
              "    }\n",
              "\n",
              "    .dataframe tbody tr th {\n",
              "        vertical-align: top;\n",
              "    }\n",
              "\n",
              "    .dataframe thead th {\n",
              "        text-align: right;\n",
              "    }\n",
              "</style>\n",
              "<table border=\"1\" class=\"dataframe\">\n",
              "  <thead>\n",
              "    <tr style=\"text-align: right;\">\n",
              "      <th></th>\n",
              "      <th>image_id</th>\n",
              "      <th>target</th>\n",
              "    </tr>\n",
              "  </thead>\n",
              "  <tbody>\n",
              "    <tr>\n",
              "      <th>1518</th>\n",
              "      <td>person841_virus_1481.jpeg</td>\n",
              "      <td>viral</td>\n",
              "    </tr>\n",
              "    <tr>\n",
              "      <th>4437</th>\n",
              "      <td>person1462_virus_2512.jpeg</td>\n",
              "      <td>viral</td>\n",
              "    </tr>\n",
              "    <tr>\n",
              "      <th>3663</th>\n",
              "      <td>person1528_virus_2662.jpeg</td>\n",
              "      <td>viral</td>\n",
              "    </tr>\n",
              "    <tr>\n",
              "      <th>1628</th>\n",
              "      <td>person942_virus_1611.jpeg</td>\n",
              "      <td>viral</td>\n",
              "    </tr>\n",
              "    <tr>\n",
              "      <th>258</th>\n",
              "      <td>NORMAL2-IM-1118-0001.jpeg</td>\n",
              "      <td>normal</td>\n",
              "    </tr>\n",
              "  </tbody>\n",
              "</table>\n",
              "</div>"
            ],
            "text/plain": [
              "                        image_id  target\n",
              "1518   person841_virus_1481.jpeg   viral\n",
              "4437  person1462_virus_2512.jpeg   viral\n",
              "3663  person1528_virus_2662.jpeg   viral\n",
              "1628   person942_virus_1611.jpeg   viral\n",
              "258    NORMAL2-IM-1118-0001.jpeg  normal"
            ]
          },
          "metadata": {
            "tags": []
          },
          "execution_count": 33
        }
      ]
    },
    {
      "cell_type": "code",
      "metadata": {
        "id": "B_ZJkFKuirV2",
        "colab_type": "code",
        "colab": {}
      },
      "source": [
        "# Set the image_id as the index in df_data\n",
        "df_data.set_index('image_id', inplace=True)"
      ],
      "execution_count": null,
      "outputs": []
    },
    {
      "cell_type": "code",
      "metadata": {
        "id": "8W7aSQ95iu_B",
        "colab_type": "code",
        "colab": {
          "base_uri": "https://localhost:8080/",
          "height": 220
        },
        "outputId": "db23042c-afb0-4b72-fc0d-c89ef6e9023f"
      },
      "source": [
        "df_data.head()"
      ],
      "execution_count": null,
      "outputs": [
        {
          "output_type": "execute_result",
          "data": {
            "text/html": [
              "<div>\n",
              "<style scoped>\n",
              "    .dataframe tbody tr th:only-of-type {\n",
              "        vertical-align: middle;\n",
              "    }\n",
              "\n",
              "    .dataframe tbody tr th {\n",
              "        vertical-align: top;\n",
              "    }\n",
              "\n",
              "    .dataframe thead th {\n",
              "        text-align: right;\n",
              "    }\n",
              "</style>\n",
              "<table border=\"1\" class=\"dataframe\">\n",
              "  <thead>\n",
              "    <tr style=\"text-align: right;\">\n",
              "      <th></th>\n",
              "      <th>target</th>\n",
              "    </tr>\n",
              "    <tr>\n",
              "      <th>image_id</th>\n",
              "      <th></th>\n",
              "    </tr>\n",
              "  </thead>\n",
              "  <tbody>\n",
              "    <tr>\n",
              "      <th>person841_virus_1481.jpeg</th>\n",
              "      <td>viral</td>\n",
              "    </tr>\n",
              "    <tr>\n",
              "      <th>person1462_virus_2512.jpeg</th>\n",
              "      <td>viral</td>\n",
              "    </tr>\n",
              "    <tr>\n",
              "      <th>person1528_virus_2662.jpeg</th>\n",
              "      <td>viral</td>\n",
              "    </tr>\n",
              "    <tr>\n",
              "      <th>person942_virus_1611.jpeg</th>\n",
              "      <td>viral</td>\n",
              "    </tr>\n",
              "    <tr>\n",
              "      <th>NORMAL2-IM-1118-0001.jpeg</th>\n",
              "      <td>normal</td>\n",
              "    </tr>\n",
              "  </tbody>\n",
              "</table>\n",
              "</div>"
            ],
            "text/plain": [
              "                            target\n",
              "image_id                          \n",
              "person841_virus_1481.jpeg    viral\n",
              "person1462_virus_2512.jpeg   viral\n",
              "person1528_virus_2662.jpeg   viral\n",
              "person942_virus_1611.jpeg    viral\n",
              "NORMAL2-IM-1118-0001.jpeg   normal"
            ]
          },
          "metadata": {
            "tags": []
          },
          "execution_count": 35
        }
      ]
    },
    {
      "cell_type": "code",
      "metadata": {
        "id": "zyaZ8rwbizUJ",
        "colab_type": "code",
        "colab": {}
      },
      "source": [
        "# Get a list of images in each of the folders\n",
        "train_normal_list = os.listdir('/content/drive/My Drive/Colab Notebooks/dataset/train/NORMAL')\n",
        "train_pneu_list = os.listdir('/content/drive/My Drive/Colab Notebooks/dataset/train/PNEUMONIA')\n",
        "val_normal_list = os.listdir('/content/drive/My Drive/Colab Notebooks/dataset/val/NORMAL')\n",
        "val_pneu_list = os.listdir('/content/drive/My Drive/Colab Notebooks/dataset/val/PNEUMONIA')\n",
        "test_normal_list = os.listdir('/content/drive/My Drive/Colab Notebooks/dataset/test/NORMAL')\n",
        "test_pneu_list = os.listdir('/content/drive/My Drive/Colab Notebooks/dataset/test/PNEUMONIA')\n",
        "\n",
        "# Get a list of train and val images\n",
        "train_list = list(df_train['image_id'])\n",
        "val_list = list(df_val['image_id'])\n",
        "\n",
        "# Transfer the train images\n",
        "\n",
        "for image in train_list:\n",
        "    \n",
        "    fname = image\n",
        "    label = df_data.loc[image,'target']\n",
        "    \n",
        "    if fname in train_normal_list:\n",
        "        # source path to image\n",
        "        src = os.path.join('/content/drive/My Drive/Colab Notebooks/dataset/train/NORMAL', fname)\n",
        "        # destination path to image\n",
        "        dst = os.path.join(train_dir, label, fname)\n",
        "        # copy the image from the source to the destination\n",
        "        shutil.copyfile(src, dst)\n",
        "\n",
        "    if fname in train_pneu_list:\n",
        "        # source path to image\n",
        "        src = os.path.join('/content/drive/My Drive/Colab Notebooks/dataset/train/PNEUMONIA', fname)\n",
        "        # destination path to image\n",
        "        dst = os.path.join(train_dir, label, fname)\n",
        "        # copy the image from the source to the destination\n",
        "        shutil.copyfile(src, dst)\n",
        "    \n",
        "    if fname in val_normal_list:\n",
        "        # source path to image\n",
        "        src = os.path.join('/content/drive/My Drive/Colab Notebooks/dataset/val/NORMAL', fname)\n",
        "        # destination path to image\n",
        "        dst = os.path.join(train_dir, label, fname)\n",
        "        # copy the image from the source to the destination\n",
        "        shutil.copyfile(src, dst)\n",
        "    \n",
        "    if fname in val_pneu_list:\n",
        "        # source path to image\n",
        "        src = os.path.join('/content/drive/My Drive/Colab Notebooks/dataset/val/PNEUMONIA', fname)\n",
        "        # destination path to image\n",
        "        dst = os.path.join(train_dir, label, fname)\n",
        "        # copy the image from the source to the destination\n",
        "        shutil.copyfile(src, dst)\n",
        "        \n",
        "    if fname in test_normal_list:\n",
        "        # source path to image\n",
        "        src = os.path.join('/content/drive/My Drive/Colab Notebooks/dataset/test/NORMAL', fname)\n",
        "        # destination path to image\n",
        "        dst = os.path.join(train_dir, label, fname)\n",
        "        # copy the image from the source to the destination\n",
        "        shutil.copyfile(src, dst)\n",
        "    \n",
        "    if fname in test_pneu_list:\n",
        "        # source path to image\n",
        "        src = os.path.join('/content/drive/My Drive/Colab Notebooks/dataset/test/PNEUMONIA', fname)\n",
        "        # destination path to image\n",
        "        dst = os.path.join(train_dir, label, fname)\n",
        "        # copy the image from the source to the destination\n",
        "        shutil.copyfile(src, dst)\n",
        "        \n",
        "        \n",
        "\n",
        "\n",
        "# Transfer the val images\n",
        "\n",
        "for image in val_list:\n",
        "    \n",
        "    fname = image\n",
        "    label = df_data.loc[image,'target']\n",
        "    \n",
        "    if fname in train_normal_list:\n",
        "        # source path to image\n",
        "        src = os.path.join('/content/drive/My Drive/Colab Notebooks/dataset/train/NORMAL', fname)\n",
        "        # destination path to image\n",
        "        dst = os.path.join(val_dir, label, fname)\n",
        "        # copy the image from the source to the destination\n",
        "        shutil.copyfile(src, dst)\n",
        "\n",
        "    if fname in train_pneu_list:\n",
        "        # source path to image\n",
        "        src = os.path.join('/content/drive/My Drive/Colab Notebooks/dataset/train/PNEUMONIA', fname)\n",
        "        # destination path to image\n",
        "        dst = os.path.join(val_dir, label, fname)\n",
        "        # copy the image from the source to the destination\n",
        "        shutil.copyfile(src, dst)\n",
        "    \n",
        "    if fname in val_normal_list:\n",
        "        # source path to image\n",
        "        src = os.path.join('/content/drive/My Drive/Colab Notebooks/dataset/val/NORMAL', fname)\n",
        "        # destination path to image\n",
        "        dst = os.path.join(val_dir, label, fname)\n",
        "        # copy the image from the source to the destination\n",
        "        shutil.copyfile(src, dst)\n",
        "    \n",
        "    if fname in val_pneu_list:\n",
        "        # source path to image\n",
        "        src = os.path.join('/content/drive/My Drive/Colab Notebooks/dataset/val/PNEUMONIA', fname)\n",
        "        # destination path to image\n",
        "        dst = os.path.join(val_dir, label, fname)\n",
        "        # copy the image from the source to the destination\n",
        "        shutil.copyfile(src, dst)\n",
        "    \n",
        "    if fname in test_normal_list:\n",
        "        # source path to image\n",
        "        src = os.path.join('/content/drive/My Drive/Colab Notebooks/dataset/test/NORMAL', fname)\n",
        "        # destination path to image\n",
        "        dst = os.path.join(val_dir, label, fname)\n",
        "        # copy the image from the source to the destination\n",
        "        shutil.copyfile(src, dst)\n",
        "    \n",
        "    if fname in test_pneu_list:\n",
        "        # source path to image\n",
        "        src = os.path.join('/content/drive/My Drive/Colab Notebooks/dataset/test/PNEUMONIA', fname)\n",
        "        # destination path to image\n",
        "        dst = os.path.join(val_dir, label, fname)\n",
        "        # copy the image from the source to the destination\n",
        "        shutil.copyfile(src, dst)"
      ],
      "execution_count": null,
      "outputs": []
    },
    {
      "cell_type": "code",
      "metadata": {
        "id": "7hG2cUgBmzM5",
        "colab_type": "code",
        "colab": {
          "base_uri": "https://localhost:8080/",
          "height": 66
        },
        "outputId": "4f83ef84-ee73-4ad5-9b61-8dc2f9f569bc"
      },
      "source": [
        "print(len(os.listdir('base_dir/train_dir/normal')))\n",
        "print(len(os.listdir('base_dir/train_dir/bacterial')))\n",
        "print(len(os.listdir('base_dir/train_dir/viral')))"
      ],
      "execution_count": null,
      "outputs": [
        {
          "output_type": "stream",
          "text": [
            "1345\n",
            "2370\n",
            "1275\n"
          ],
          "name": "stdout"
        }
      ]
    },
    {
      "cell_type": "code",
      "metadata": {
        "id": "G1sf0Suam-53",
        "colab_type": "code",
        "colab": {
          "base_uri": "https://localhost:8080/",
          "height": 66
        },
        "outputId": "83074d26-5bc8-4740-defe-fe0901debe73"
      },
      "source": [
        "print(len(os.listdir('base_dir/val_dir/normal')))\n",
        "print(len(os.listdir('base_dir/val_dir/bacterial')))\n",
        "print(len(os.listdir('base_dir/val_dir/viral')))"
      ],
      "execution_count": null,
      "outputs": [
        {
          "output_type": "stream",
          "text": [
            "238\n",
            "418\n",
            "225\n"
          ],
          "name": "stdout"
        }
      ]
    },
    {
      "cell_type": "code",
      "metadata": {
        "id": "bxoXlpyuqIb0",
        "colab_type": "code",
        "colab": {
          "base_uri": "https://localhost:8080/",
          "height": 66
        },
        "outputId": "fb417327-5a64-441e-aa2e-ad7c293a4ba0"
      },
      "source": [
        "class_list=['normal','viral','bacterial']\n",
        "\n",
        "for item in class_list:\n",
        "  # We are creating temporary directories here because we delete these directories later\n",
        "  # create a base dir\n",
        "  aug_dir = 'aug_dir'\n",
        "  os.mkdir(aug_dir)\n",
        "  img_dir = os.path.join(aug_dir, 'img_dir')\n",
        "  os.mkdir(img_dir)\n",
        "\n",
        "  # Choose a class\n",
        "  img_class = item\n",
        "\n",
        "  # list all images in that directory\n",
        "  img_list = os.listdir('base_dir/train_dir/' + img_class)\n",
        "\n",
        "  # Copy images from the class train dir to the img_dir e.g. class 'bacterial'\n",
        "  for fname in img_list:\n",
        "    # source path to image\n",
        "    src = os.path.join('base_dir/train_dir/' + img_class, fname)\n",
        "    # destination path to image\n",
        "    dst = os.path.join(img_dir, fname)\n",
        "    # copy the image from the source to the destination\n",
        "    shutil.copyfile(src, dst)\n",
        "  \n",
        "  # point to a dir containing the images and not to the images themselves\n",
        "  path = aug_dir\n",
        "  save_path = 'base_dir/train_dir/' + img_class\n",
        "\n",
        "  # Create a data generator\n",
        "  datagen = ImageDataGenerator(\n",
        "      rotation_range=10,\n",
        "      width_shift_range=0.05,\n",
        "      height_shift_range=0.05,\n",
        "      zoom_range=0.05,\n",
        "      horizontal_flip=True,\n",
        "      fill_mode='nearest')\n",
        "\n",
        "  batch_size = 50\n",
        "\n",
        "  aug_datagen = datagen.flow_from_directory(path,\n",
        "                                          save_to_dir=save_path,\n",
        "                                          save_format='jpg',\n",
        "                                                  target_size=(224,224),\n",
        "                                                  batch_size=batch_size)\n",
        "  \n",
        "\n",
        "  # Generate the augmented images and add them to the training folders\n",
        "  \n",
        "  ###########\n",
        "  \n",
        "  num_aug_images_wanted = 5000 # total number of images we want to have in each class\n",
        "  \n",
        "  ###########\n",
        "\n",
        "  num_files = len(os.listdir(img_dir))\n",
        "  num_batches = int(np.ceil((num_aug_images_wanted-num_files)/batch_size))\n",
        "\n",
        "  # run the generator and create augmented images\n",
        "  for i in range(0,num_batches):\n",
        "    imgs, labels = next(aug_datagen)\n",
        "      \n",
        "  # delete temporary directory with the raw image files\n",
        "  shutil.rmtree('aug_dir')\n"
      ],
      "execution_count": null,
      "outputs": [
        {
          "output_type": "stream",
          "text": [
            "Found 1345 images belonging to 1 classes.\n",
            "Found 1275 images belonging to 1 classes.\n",
            "Found 2370 images belonging to 1 classes.\n"
          ],
          "name": "stdout"
        }
      ]
    },
    {
      "cell_type": "code",
      "metadata": {
        "id": "kl4R9zHi3eTk",
        "colab_type": "code",
        "colab": {
          "base_uri": "https://localhost:8080/",
          "height": 66
        },
        "outputId": "885aac79-7199-449e-9ed5-3cc6663b4d11"
      },
      "source": [
        "print(len(os.listdir('base_dir/train_dir/normal')))\n",
        "print(len(os.listdir('base_dir/train_dir/bacterial')))\n",
        "print(len(os.listdir('base_dir/train_dir/viral')))"
      ],
      "execution_count": null,
      "outputs": [
        {
          "output_type": "stream",
          "text": [
            "5035\n",
            "4990\n",
            "4975\n"
          ],
          "name": "stdout"
        }
      ]
    },
    {
      "cell_type": "code",
      "metadata": {
        "id": "uvqHfIpI3n_A",
        "colab_type": "code",
        "colab": {
          "base_uri": "https://localhost:8080/",
          "height": 66
        },
        "outputId": "c530dbd3-f35e-40e7-8cb9-2a8c2817da3c"
      },
      "source": [
        "print(len(os.listdir('base_dir/val_dir/normal')))\n",
        "print(len(os.listdir('base_dir/val_dir/bacterial')))\n",
        "print(len(os.listdir('base_dir/val_dir/viral')))"
      ],
      "execution_count": null,
      "outputs": [
        {
          "output_type": "stream",
          "text": [
            "238\n",
            "418\n",
            "225\n"
          ],
          "name": "stdout"
        }
      ]
    },
    {
      "cell_type": "markdown",
      "metadata": {
        "id": "dMhoblcr3OPo",
        "colab_type": "text"
      },
      "source": [
        "# **END OF DATA PREP**"
      ]
    },
    {
      "cell_type": "markdown",
      "metadata": {
        "id": "D-cI8baF3AC1",
        "colab_type": "text"
      },
      "source": [
        "# **Setting Up Data Generators**"
      ]
    },
    {
      "cell_type": "code",
      "metadata": {
        "id": "WvVpFFWZ29pH",
        "colab_type": "code",
        "colab": {}
      },
      "source": [
        "train_path = 'base_dir/train_dir'\n",
        "valid_path = 'base_dir/val_dir'\n",
        "\n",
        "num_train_samples = len(df_train)\n",
        "num_val_samples = len(df_val)\n",
        "train_batch_size = 10\n",
        "val_batch_size = 10\n",
        "image_size = 224\n",
        "\n",
        "train_steps = np.ceil(num_train_samples / train_batch_size)\n",
        "val_steps = np.ceil(num_val_samples / val_batch_size)"
      ],
      "execution_count": null,
      "outputs": []
    },
    {
      "cell_type": "code",
      "metadata": {
        "id": "bRTjAjc04a5b",
        "colab_type": "code",
        "colab": {
          "base_uri": "https://localhost:8080/",
          "height": 66
        },
        "outputId": "feba7cd6-6584-4ef8-aa38-c59a3a4bd187"
      },
      "source": [
        "\n",
        "train_batches = ImageDataGenerator(\n",
        "    preprocessing_function= \\\n",
        "    keras.applications.mobilenet.preprocess_input).flow_from_directory(\n",
        "                                                    train_path,\n",
        "                                                    target_size=(image_size,image_size),\n",
        "                                                    batch_size=train_batch_size,\n",
        "                                                    class_mode='categorical')\n",
        "valid_batches = ImageDataGenerator(\n",
        "    preprocessing_function= \\\n",
        "    keras.applications.mobilenet.preprocess_input).flow_from_directory(\n",
        "                                                    valid_path,\n",
        "                                                    target_size=(image_size,image_size),\n",
        "                                                    batch_size=val_batch_size,\n",
        "                                                    class_mode='categorical')\n",
        "\n",
        "# Note: shuffle=False causes the test dataset to not be shuffled\n",
        "test_batches = ImageDataGenerator(\n",
        "    preprocessing_function= \\\n",
        "    keras.applications.mobilenet.preprocess_input).flow_from_directory(\n",
        "                                                    valid_path,\n",
        "                                                    target_size=(image_size,image_size),\n",
        "                                                    batch_size=val_batch_size,\n",
        "                                                    class_mode='categorical',\n",
        "                                                    shuffle=False)"
      ],
      "execution_count": null,
      "outputs": [
        {
          "output_type": "stream",
          "text": [
            "Found 15000 images belonging to 3 classes.\n",
            "Found 881 images belonging to 3 classes.\n",
            "Found 881 images belonging to 3 classes.\n"
          ],
          "name": "stdout"
        }
      ]
    },
    {
      "cell_type": "code",
      "metadata": {
        "id": "mXvSxgLX5HBr",
        "colab_type": "code",
        "colab": {
          "base_uri": "https://localhost:8080/",
          "height": 50
        },
        "outputId": "22a284ff-26a0-4854-d406-e2c9bc448ab2"
      },
      "source": [
        "# create a copy of a mobilenet model\n",
        "\n",
        "mobile = keras.applications.mobilenet.MobileNet()"
      ],
      "execution_count": null,
      "outputs": [
        {
          "output_type": "stream",
          "text": [
            "Downloading data from https://github.com/fchollet/deep-learning-models/releases/download/v0.6/mobilenet_1_0_224_tf.h5\n",
            "17227776/17225924 [==============================] - 0s 0us/step\n"
          ],
          "name": "stdout"
        }
      ]
    },
    {
      "cell_type": "code",
      "metadata": {
        "id": "H-_vjPMJ5LFv",
        "colab_type": "code",
        "colab": {
          "base_uri": "https://localhost:8080/",
          "height": 1000
        },
        "outputId": "91b2f342-58b9-4297-dd0a-e28ef2b50d0a"
      },
      "source": [
        "mobile.summary()"
      ],
      "execution_count": null,
      "outputs": [
        {
          "output_type": "stream",
          "text": [
            "Model: \"mobilenet_1.00_224\"\n",
            "_________________________________________________________________\n",
            "Layer (type)                 Output Shape              Param #   \n",
            "=================================================================\n",
            "input_1 (InputLayer)         (None, 224, 224, 3)       0         \n",
            "_________________________________________________________________\n",
            "conv1_pad (ZeroPadding2D)    (None, 225, 225, 3)       0         \n",
            "_________________________________________________________________\n",
            "conv1 (Conv2D)               (None, 112, 112, 32)      864       \n",
            "_________________________________________________________________\n",
            "conv1_bn (BatchNormalization (None, 112, 112, 32)      128       \n",
            "_________________________________________________________________\n",
            "conv1_relu (ReLU)            (None, 112, 112, 32)      0         \n",
            "_________________________________________________________________\n",
            "conv_dw_1 (DepthwiseConv2D)  (None, 112, 112, 32)      288       \n",
            "_________________________________________________________________\n",
            "conv_dw_1_bn (BatchNormaliza (None, 112, 112, 32)      128       \n",
            "_________________________________________________________________\n",
            "conv_dw_1_relu (ReLU)        (None, 112, 112, 32)      0         \n",
            "_________________________________________________________________\n",
            "conv_pw_1 (Conv2D)           (None, 112, 112, 64)      2048      \n",
            "_________________________________________________________________\n",
            "conv_pw_1_bn (BatchNormaliza (None, 112, 112, 64)      256       \n",
            "_________________________________________________________________\n",
            "conv_pw_1_relu (ReLU)        (None, 112, 112, 64)      0         \n",
            "_________________________________________________________________\n",
            "conv_pad_2 (ZeroPadding2D)   (None, 113, 113, 64)      0         \n",
            "_________________________________________________________________\n",
            "conv_dw_2 (DepthwiseConv2D)  (None, 56, 56, 64)        576       \n",
            "_________________________________________________________________\n",
            "conv_dw_2_bn (BatchNormaliza (None, 56, 56, 64)        256       \n",
            "_________________________________________________________________\n",
            "conv_dw_2_relu (ReLU)        (None, 56, 56, 64)        0         \n",
            "_________________________________________________________________\n",
            "conv_pw_2 (Conv2D)           (None, 56, 56, 128)       8192      \n",
            "_________________________________________________________________\n",
            "conv_pw_2_bn (BatchNormaliza (None, 56, 56, 128)       512       \n",
            "_________________________________________________________________\n",
            "conv_pw_2_relu (ReLU)        (None, 56, 56, 128)       0         \n",
            "_________________________________________________________________\n",
            "conv_dw_3 (DepthwiseConv2D)  (None, 56, 56, 128)       1152      \n",
            "_________________________________________________________________\n",
            "conv_dw_3_bn (BatchNormaliza (None, 56, 56, 128)       512       \n",
            "_________________________________________________________________\n",
            "conv_dw_3_relu (ReLU)        (None, 56, 56, 128)       0         \n",
            "_________________________________________________________________\n",
            "conv_pw_3 (Conv2D)           (None, 56, 56, 128)       16384     \n",
            "_________________________________________________________________\n",
            "conv_pw_3_bn (BatchNormaliza (None, 56, 56, 128)       512       \n",
            "_________________________________________________________________\n",
            "conv_pw_3_relu (ReLU)        (None, 56, 56, 128)       0         \n",
            "_________________________________________________________________\n",
            "conv_pad_4 (ZeroPadding2D)   (None, 57, 57, 128)       0         \n",
            "_________________________________________________________________\n",
            "conv_dw_4 (DepthwiseConv2D)  (None, 28, 28, 128)       1152      \n",
            "_________________________________________________________________\n",
            "conv_dw_4_bn (BatchNormaliza (None, 28, 28, 128)       512       \n",
            "_________________________________________________________________\n",
            "conv_dw_4_relu (ReLU)        (None, 28, 28, 128)       0         \n",
            "_________________________________________________________________\n",
            "conv_pw_4 (Conv2D)           (None, 28, 28, 256)       32768     \n",
            "_________________________________________________________________\n",
            "conv_pw_4_bn (BatchNormaliza (None, 28, 28, 256)       1024      \n",
            "_________________________________________________________________\n",
            "conv_pw_4_relu (ReLU)        (None, 28, 28, 256)       0         \n",
            "_________________________________________________________________\n",
            "conv_dw_5 (DepthwiseConv2D)  (None, 28, 28, 256)       2304      \n",
            "_________________________________________________________________\n",
            "conv_dw_5_bn (BatchNormaliza (None, 28, 28, 256)       1024      \n",
            "_________________________________________________________________\n",
            "conv_dw_5_relu (ReLU)        (None, 28, 28, 256)       0         \n",
            "_________________________________________________________________\n",
            "conv_pw_5 (Conv2D)           (None, 28, 28, 256)       65536     \n",
            "_________________________________________________________________\n",
            "conv_pw_5_bn (BatchNormaliza (None, 28, 28, 256)       1024      \n",
            "_________________________________________________________________\n",
            "conv_pw_5_relu (ReLU)        (None, 28, 28, 256)       0         \n",
            "_________________________________________________________________\n",
            "conv_pad_6 (ZeroPadding2D)   (None, 29, 29, 256)       0         \n",
            "_________________________________________________________________\n",
            "conv_dw_6 (DepthwiseConv2D)  (None, 14, 14, 256)       2304      \n",
            "_________________________________________________________________\n",
            "conv_dw_6_bn (BatchNormaliza (None, 14, 14, 256)       1024      \n",
            "_________________________________________________________________\n",
            "conv_dw_6_relu (ReLU)        (None, 14, 14, 256)       0         \n",
            "_________________________________________________________________\n",
            "conv_pw_6 (Conv2D)           (None, 14, 14, 512)       131072    \n",
            "_________________________________________________________________\n",
            "conv_pw_6_bn (BatchNormaliza (None, 14, 14, 512)       2048      \n",
            "_________________________________________________________________\n",
            "conv_pw_6_relu (ReLU)        (None, 14, 14, 512)       0         \n",
            "_________________________________________________________________\n",
            "conv_dw_7 (DepthwiseConv2D)  (None, 14, 14, 512)       4608      \n",
            "_________________________________________________________________\n",
            "conv_dw_7_bn (BatchNormaliza (None, 14, 14, 512)       2048      \n",
            "_________________________________________________________________\n",
            "conv_dw_7_relu (ReLU)        (None, 14, 14, 512)       0         \n",
            "_________________________________________________________________\n",
            "conv_pw_7 (Conv2D)           (None, 14, 14, 512)       262144    \n",
            "_________________________________________________________________\n",
            "conv_pw_7_bn (BatchNormaliza (None, 14, 14, 512)       2048      \n",
            "_________________________________________________________________\n",
            "conv_pw_7_relu (ReLU)        (None, 14, 14, 512)       0         \n",
            "_________________________________________________________________\n",
            "conv_dw_8 (DepthwiseConv2D)  (None, 14, 14, 512)       4608      \n",
            "_________________________________________________________________\n",
            "conv_dw_8_bn (BatchNormaliza (None, 14, 14, 512)       2048      \n",
            "_________________________________________________________________\n",
            "conv_dw_8_relu (ReLU)        (None, 14, 14, 512)       0         \n",
            "_________________________________________________________________\n",
            "conv_pw_8 (Conv2D)           (None, 14, 14, 512)       262144    \n",
            "_________________________________________________________________\n",
            "conv_pw_8_bn (BatchNormaliza (None, 14, 14, 512)       2048      \n",
            "_________________________________________________________________\n",
            "conv_pw_8_relu (ReLU)        (None, 14, 14, 512)       0         \n",
            "_________________________________________________________________\n",
            "conv_dw_9 (DepthwiseConv2D)  (None, 14, 14, 512)       4608      \n",
            "_________________________________________________________________\n",
            "conv_dw_9_bn (BatchNormaliza (None, 14, 14, 512)       2048      \n",
            "_________________________________________________________________\n",
            "conv_dw_9_relu (ReLU)        (None, 14, 14, 512)       0         \n",
            "_________________________________________________________________\n",
            "conv_pw_9 (Conv2D)           (None, 14, 14, 512)       262144    \n",
            "_________________________________________________________________\n",
            "conv_pw_9_bn (BatchNormaliza (None, 14, 14, 512)       2048      \n",
            "_________________________________________________________________\n",
            "conv_pw_9_relu (ReLU)        (None, 14, 14, 512)       0         \n",
            "_________________________________________________________________\n",
            "conv_dw_10 (DepthwiseConv2D) (None, 14, 14, 512)       4608      \n",
            "_________________________________________________________________\n",
            "conv_dw_10_bn (BatchNormaliz (None, 14, 14, 512)       2048      \n",
            "_________________________________________________________________\n",
            "conv_dw_10_relu (ReLU)       (None, 14, 14, 512)       0         \n",
            "_________________________________________________________________\n",
            "conv_pw_10 (Conv2D)          (None, 14, 14, 512)       262144    \n",
            "_________________________________________________________________\n",
            "conv_pw_10_bn (BatchNormaliz (None, 14, 14, 512)       2048      \n",
            "_________________________________________________________________\n",
            "conv_pw_10_relu (ReLU)       (None, 14, 14, 512)       0         \n",
            "_________________________________________________________________\n",
            "conv_dw_11 (DepthwiseConv2D) (None, 14, 14, 512)       4608      \n",
            "_________________________________________________________________\n",
            "conv_dw_11_bn (BatchNormaliz (None, 14, 14, 512)       2048      \n",
            "_________________________________________________________________\n",
            "conv_dw_11_relu (ReLU)       (None, 14, 14, 512)       0         \n",
            "_________________________________________________________________\n",
            "conv_pw_11 (Conv2D)          (None, 14, 14, 512)       262144    \n",
            "_________________________________________________________________\n",
            "conv_pw_11_bn (BatchNormaliz (None, 14, 14, 512)       2048      \n",
            "_________________________________________________________________\n",
            "conv_pw_11_relu (ReLU)       (None, 14, 14, 512)       0         \n",
            "_________________________________________________________________\n",
            "conv_pad_12 (ZeroPadding2D)  (None, 15, 15, 512)       0         \n",
            "_________________________________________________________________\n",
            "conv_dw_12 (DepthwiseConv2D) (None, 7, 7, 512)         4608      \n",
            "_________________________________________________________________\n",
            "conv_dw_12_bn (BatchNormaliz (None, 7, 7, 512)         2048      \n",
            "_________________________________________________________________\n",
            "conv_dw_12_relu (ReLU)       (None, 7, 7, 512)         0         \n",
            "_________________________________________________________________\n",
            "conv_pw_12 (Conv2D)          (None, 7, 7, 1024)        524288    \n",
            "_________________________________________________________________\n",
            "conv_pw_12_bn (BatchNormaliz (None, 7, 7, 1024)        4096      \n",
            "_________________________________________________________________\n",
            "conv_pw_12_relu (ReLU)       (None, 7, 7, 1024)        0         \n",
            "_________________________________________________________________\n",
            "conv_dw_13 (DepthwiseConv2D) (None, 7, 7, 1024)        9216      \n",
            "_________________________________________________________________\n",
            "conv_dw_13_bn (BatchNormaliz (None, 7, 7, 1024)        4096      \n",
            "_________________________________________________________________\n",
            "conv_dw_13_relu (ReLU)       (None, 7, 7, 1024)        0         \n",
            "_________________________________________________________________\n",
            "conv_pw_13 (Conv2D)          (None, 7, 7, 1024)        1048576   \n",
            "_________________________________________________________________\n",
            "conv_pw_13_bn (BatchNormaliz (None, 7, 7, 1024)        4096      \n",
            "_________________________________________________________________\n",
            "conv_pw_13_relu (ReLU)       (None, 7, 7, 1024)        0         \n",
            "_________________________________________________________________\n",
            "global_average_pooling2d_1 ( (None, 1024)              0         \n",
            "_________________________________________________________________\n",
            "reshape_1 (Reshape)          (None, 1, 1, 1024)        0         \n",
            "_________________________________________________________________\n",
            "dropout (Dropout)            (None, 1, 1, 1024)        0         \n",
            "_________________________________________________________________\n",
            "conv_preds (Conv2D)          (None, 1, 1, 1000)        1025000   \n",
            "_________________________________________________________________\n",
            "reshape_2 (Reshape)          (None, 1000)              0         \n",
            "_________________________________________________________________\n",
            "act_softmax (Activation)     (None, 1000)              0         \n",
            "=================================================================\n",
            "Total params: 4,253,864\n",
            "Trainable params: 4,231,976\n",
            "Non-trainable params: 21,888\n",
            "_________________________________________________________________\n"
          ],
          "name": "stdout"
        }
      ]
    },
    {
      "cell_type": "code",
      "metadata": {
        "id": "WTpuSalc6bry",
        "colab_type": "code",
        "colab": {
          "base_uri": "https://localhost:8080/",
          "height": 33
        },
        "outputId": "5965c0d4-1d98-41a7-f86e-f2d2dcb13704"
      },
      "source": [
        "type(mobile.layers)"
      ],
      "execution_count": null,
      "outputs": [
        {
          "output_type": "execute_result",
          "data": {
            "text/plain": [
              "list"
            ]
          },
          "metadata": {
            "tags": []
          },
          "execution_count": 46
        }
      ]
    },
    {
      "cell_type": "code",
      "metadata": {
        "id": "VL2dt6ut6kp2",
        "colab_type": "code",
        "colab": {
          "base_uri": "https://localhost:8080/",
          "height": 33
        },
        "outputId": "99a964fc-8d54-4918-921c-c9eda41a68e7"
      },
      "source": [
        "# How many layers does MobileNet have?\n",
        "len(mobile.layers)"
      ],
      "execution_count": null,
      "outputs": [
        {
          "output_type": "execute_result",
          "data": {
            "text/plain": [
              "93"
            ]
          },
          "metadata": {
            "tags": []
          },
          "execution_count": 47
        }
      ]
    },
    {
      "cell_type": "code",
      "metadata": {
        "id": "hHi3McCl6s65",
        "colab_type": "code",
        "colab": {}
      },
      "source": [
        "# CREATE THE MODEL ARCHITECTURE\n",
        "\n",
        "# Exclude the last 5 layers of the above model.\n",
        "# This will include all layers up to and including global_average_pooling2d_1\n",
        "x = mobile.layers[-6].output\n",
        "\n",
        "# Create a new dense layer for predictions\n",
        "# 3 corresponds to the number of classes\n",
        "x = Dropout(0.25)(x)\n",
        "predictions = Dense(3, activation='softmax')(x)\n",
        "\n",
        "# inputs=mobile.input selects the input layer, outputs=predictions refers to the\n",
        "# dense layer we created above.\n",
        "\n",
        "model = Model(inputs=mobile.input, outputs=predictions)"
      ],
      "execution_count": null,
      "outputs": []
    },
    {
      "cell_type": "code",
      "metadata": {
        "id": "6OUva7xV6wkZ",
        "colab_type": "code",
        "colab": {
          "base_uri": "https://localhost:8080/",
          "height": 1000
        },
        "outputId": "69d6228a-7a70-422e-8162-9b47d898b8a9"
      },
      "source": [
        "model.summary()"
      ],
      "execution_count": null,
      "outputs": [
        {
          "output_type": "stream",
          "text": [
            "Model: \"model_1\"\n",
            "_________________________________________________________________\n",
            "Layer (type)                 Output Shape              Param #   \n",
            "=================================================================\n",
            "input_1 (InputLayer)         (None, 224, 224, 3)       0         \n",
            "_________________________________________________________________\n",
            "conv1_pad (ZeroPadding2D)    (None, 225, 225, 3)       0         \n",
            "_________________________________________________________________\n",
            "conv1 (Conv2D)               (None, 112, 112, 32)      864       \n",
            "_________________________________________________________________\n",
            "conv1_bn (BatchNormalization (None, 112, 112, 32)      128       \n",
            "_________________________________________________________________\n",
            "conv1_relu (ReLU)            (None, 112, 112, 32)      0         \n",
            "_________________________________________________________________\n",
            "conv_dw_1 (DepthwiseConv2D)  (None, 112, 112, 32)      288       \n",
            "_________________________________________________________________\n",
            "conv_dw_1_bn (BatchNormaliza (None, 112, 112, 32)      128       \n",
            "_________________________________________________________________\n",
            "conv_dw_1_relu (ReLU)        (None, 112, 112, 32)      0         \n",
            "_________________________________________________________________\n",
            "conv_pw_1 (Conv2D)           (None, 112, 112, 64)      2048      \n",
            "_________________________________________________________________\n",
            "conv_pw_1_bn (BatchNormaliza (None, 112, 112, 64)      256       \n",
            "_________________________________________________________________\n",
            "conv_pw_1_relu (ReLU)        (None, 112, 112, 64)      0         \n",
            "_________________________________________________________________\n",
            "conv_pad_2 (ZeroPadding2D)   (None, 113, 113, 64)      0         \n",
            "_________________________________________________________________\n",
            "conv_dw_2 (DepthwiseConv2D)  (None, 56, 56, 64)        576       \n",
            "_________________________________________________________________\n",
            "conv_dw_2_bn (BatchNormaliza (None, 56, 56, 64)        256       \n",
            "_________________________________________________________________\n",
            "conv_dw_2_relu (ReLU)        (None, 56, 56, 64)        0         \n",
            "_________________________________________________________________\n",
            "conv_pw_2 (Conv2D)           (None, 56, 56, 128)       8192      \n",
            "_________________________________________________________________\n",
            "conv_pw_2_bn (BatchNormaliza (None, 56, 56, 128)       512       \n",
            "_________________________________________________________________\n",
            "conv_pw_2_relu (ReLU)        (None, 56, 56, 128)       0         \n",
            "_________________________________________________________________\n",
            "conv_dw_3 (DepthwiseConv2D)  (None, 56, 56, 128)       1152      \n",
            "_________________________________________________________________\n",
            "conv_dw_3_bn (BatchNormaliza (None, 56, 56, 128)       512       \n",
            "_________________________________________________________________\n",
            "conv_dw_3_relu (ReLU)        (None, 56, 56, 128)       0         \n",
            "_________________________________________________________________\n",
            "conv_pw_3 (Conv2D)           (None, 56, 56, 128)       16384     \n",
            "_________________________________________________________________\n",
            "conv_pw_3_bn (BatchNormaliza (None, 56, 56, 128)       512       \n",
            "_________________________________________________________________\n",
            "conv_pw_3_relu (ReLU)        (None, 56, 56, 128)       0         \n",
            "_________________________________________________________________\n",
            "conv_pad_4 (ZeroPadding2D)   (None, 57, 57, 128)       0         \n",
            "_________________________________________________________________\n",
            "conv_dw_4 (DepthwiseConv2D)  (None, 28, 28, 128)       1152      \n",
            "_________________________________________________________________\n",
            "conv_dw_4_bn (BatchNormaliza (None, 28, 28, 128)       512       \n",
            "_________________________________________________________________\n",
            "conv_dw_4_relu (ReLU)        (None, 28, 28, 128)       0         \n",
            "_________________________________________________________________\n",
            "conv_pw_4 (Conv2D)           (None, 28, 28, 256)       32768     \n",
            "_________________________________________________________________\n",
            "conv_pw_4_bn (BatchNormaliza (None, 28, 28, 256)       1024      \n",
            "_________________________________________________________________\n",
            "conv_pw_4_relu (ReLU)        (None, 28, 28, 256)       0         \n",
            "_________________________________________________________________\n",
            "conv_dw_5 (DepthwiseConv2D)  (None, 28, 28, 256)       2304      \n",
            "_________________________________________________________________\n",
            "conv_dw_5_bn (BatchNormaliza (None, 28, 28, 256)       1024      \n",
            "_________________________________________________________________\n",
            "conv_dw_5_relu (ReLU)        (None, 28, 28, 256)       0         \n",
            "_________________________________________________________________\n",
            "conv_pw_5 (Conv2D)           (None, 28, 28, 256)       65536     \n",
            "_________________________________________________________________\n",
            "conv_pw_5_bn (BatchNormaliza (None, 28, 28, 256)       1024      \n",
            "_________________________________________________________________\n",
            "conv_pw_5_relu (ReLU)        (None, 28, 28, 256)       0         \n",
            "_________________________________________________________________\n",
            "conv_pad_6 (ZeroPadding2D)   (None, 29, 29, 256)       0         \n",
            "_________________________________________________________________\n",
            "conv_dw_6 (DepthwiseConv2D)  (None, 14, 14, 256)       2304      \n",
            "_________________________________________________________________\n",
            "conv_dw_6_bn (BatchNormaliza (None, 14, 14, 256)       1024      \n",
            "_________________________________________________________________\n",
            "conv_dw_6_relu (ReLU)        (None, 14, 14, 256)       0         \n",
            "_________________________________________________________________\n",
            "conv_pw_6 (Conv2D)           (None, 14, 14, 512)       131072    \n",
            "_________________________________________________________________\n",
            "conv_pw_6_bn (BatchNormaliza (None, 14, 14, 512)       2048      \n",
            "_________________________________________________________________\n",
            "conv_pw_6_relu (ReLU)        (None, 14, 14, 512)       0         \n",
            "_________________________________________________________________\n",
            "conv_dw_7 (DepthwiseConv2D)  (None, 14, 14, 512)       4608      \n",
            "_________________________________________________________________\n",
            "conv_dw_7_bn (BatchNormaliza (None, 14, 14, 512)       2048      \n",
            "_________________________________________________________________\n",
            "conv_dw_7_relu (ReLU)        (None, 14, 14, 512)       0         \n",
            "_________________________________________________________________\n",
            "conv_pw_7 (Conv2D)           (None, 14, 14, 512)       262144    \n",
            "_________________________________________________________________\n",
            "conv_pw_7_bn (BatchNormaliza (None, 14, 14, 512)       2048      \n",
            "_________________________________________________________________\n",
            "conv_pw_7_relu (ReLU)        (None, 14, 14, 512)       0         \n",
            "_________________________________________________________________\n",
            "conv_dw_8 (DepthwiseConv2D)  (None, 14, 14, 512)       4608      \n",
            "_________________________________________________________________\n",
            "conv_dw_8_bn (BatchNormaliza (None, 14, 14, 512)       2048      \n",
            "_________________________________________________________________\n",
            "conv_dw_8_relu (ReLU)        (None, 14, 14, 512)       0         \n",
            "_________________________________________________________________\n",
            "conv_pw_8 (Conv2D)           (None, 14, 14, 512)       262144    \n",
            "_________________________________________________________________\n",
            "conv_pw_8_bn (BatchNormaliza (None, 14, 14, 512)       2048      \n",
            "_________________________________________________________________\n",
            "conv_pw_8_relu (ReLU)        (None, 14, 14, 512)       0         \n",
            "_________________________________________________________________\n",
            "conv_dw_9 (DepthwiseConv2D)  (None, 14, 14, 512)       4608      \n",
            "_________________________________________________________________\n",
            "conv_dw_9_bn (BatchNormaliza (None, 14, 14, 512)       2048      \n",
            "_________________________________________________________________\n",
            "conv_dw_9_relu (ReLU)        (None, 14, 14, 512)       0         \n",
            "_________________________________________________________________\n",
            "conv_pw_9 (Conv2D)           (None, 14, 14, 512)       262144    \n",
            "_________________________________________________________________\n",
            "conv_pw_9_bn (BatchNormaliza (None, 14, 14, 512)       2048      \n",
            "_________________________________________________________________\n",
            "conv_pw_9_relu (ReLU)        (None, 14, 14, 512)       0         \n",
            "_________________________________________________________________\n",
            "conv_dw_10 (DepthwiseConv2D) (None, 14, 14, 512)       4608      \n",
            "_________________________________________________________________\n",
            "conv_dw_10_bn (BatchNormaliz (None, 14, 14, 512)       2048      \n",
            "_________________________________________________________________\n",
            "conv_dw_10_relu (ReLU)       (None, 14, 14, 512)       0         \n",
            "_________________________________________________________________\n",
            "conv_pw_10 (Conv2D)          (None, 14, 14, 512)       262144    \n",
            "_________________________________________________________________\n",
            "conv_pw_10_bn (BatchNormaliz (None, 14, 14, 512)       2048      \n",
            "_________________________________________________________________\n",
            "conv_pw_10_relu (ReLU)       (None, 14, 14, 512)       0         \n",
            "_________________________________________________________________\n",
            "conv_dw_11 (DepthwiseConv2D) (None, 14, 14, 512)       4608      \n",
            "_________________________________________________________________\n",
            "conv_dw_11_bn (BatchNormaliz (None, 14, 14, 512)       2048      \n",
            "_________________________________________________________________\n",
            "conv_dw_11_relu (ReLU)       (None, 14, 14, 512)       0         \n",
            "_________________________________________________________________\n",
            "conv_pw_11 (Conv2D)          (None, 14, 14, 512)       262144    \n",
            "_________________________________________________________________\n",
            "conv_pw_11_bn (BatchNormaliz (None, 14, 14, 512)       2048      \n",
            "_________________________________________________________________\n",
            "conv_pw_11_relu (ReLU)       (None, 14, 14, 512)       0         \n",
            "_________________________________________________________________\n",
            "conv_pad_12 (ZeroPadding2D)  (None, 15, 15, 512)       0         \n",
            "_________________________________________________________________\n",
            "conv_dw_12 (DepthwiseConv2D) (None, 7, 7, 512)         4608      \n",
            "_________________________________________________________________\n",
            "conv_dw_12_bn (BatchNormaliz (None, 7, 7, 512)         2048      \n",
            "_________________________________________________________________\n",
            "conv_dw_12_relu (ReLU)       (None, 7, 7, 512)         0         \n",
            "_________________________________________________________________\n",
            "conv_pw_12 (Conv2D)          (None, 7, 7, 1024)        524288    \n",
            "_________________________________________________________________\n",
            "conv_pw_12_bn (BatchNormaliz (None, 7, 7, 1024)        4096      \n",
            "_________________________________________________________________\n",
            "conv_pw_12_relu (ReLU)       (None, 7, 7, 1024)        0         \n",
            "_________________________________________________________________\n",
            "conv_dw_13 (DepthwiseConv2D) (None, 7, 7, 1024)        9216      \n",
            "_________________________________________________________________\n",
            "conv_dw_13_bn (BatchNormaliz (None, 7, 7, 1024)        4096      \n",
            "_________________________________________________________________\n",
            "conv_dw_13_relu (ReLU)       (None, 7, 7, 1024)        0         \n",
            "_________________________________________________________________\n",
            "conv_pw_13 (Conv2D)          (None, 7, 7, 1024)        1048576   \n",
            "_________________________________________________________________\n",
            "conv_pw_13_bn (BatchNormaliz (None, 7, 7, 1024)        4096      \n",
            "_________________________________________________________________\n",
            "conv_pw_13_relu (ReLU)       (None, 7, 7, 1024)        0         \n",
            "_________________________________________________________________\n",
            "global_average_pooling2d_1 ( (None, 1024)              0         \n",
            "_________________________________________________________________\n",
            "dropout_1 (Dropout)          (None, 1024)              0         \n",
            "_________________________________________________________________\n",
            "dense_1 (Dense)              (None, 3)                 3075      \n",
            "=================================================================\n",
            "Total params: 3,231,939\n",
            "Trainable params: 3,210,051\n",
            "Non-trainable params: 21,888\n",
            "_________________________________________________________________\n"
          ],
          "name": "stdout"
        }
      ]
    },
    {
      "cell_type": "code",
      "metadata": {
        "id": "xVWxvCQ37eDp",
        "colab_type": "code",
        "colab": {}
      },
      "source": [
        "#We need to choose how many layers we actually want to be trained.\n",
        "\n",
        "# Here we are freezing the weights of all layers except the\n",
        "# last 40 layers in the new model.\n",
        "# The last 40 layers of the model will be trained.\n",
        "for layer in model.layers[:-40]:\n",
        "    layer.trainable = False"
      ],
      "execution_count": null,
      "outputs": []
    },
    {
      "cell_type": "code",
      "metadata": {
        "id": "CDpBwEOa8f8w",
        "colab_type": "code",
        "colab": {}
      },
      "source": [
        "model.compile(Adam(lr=0.001), loss='categorical_crossentropy', \n",
        "              metrics=[categorical_accuracy])"
      ],
      "execution_count": null,
      "outputs": []
    },
    {
      "cell_type": "markdown",
      "metadata": {
        "id": "Z9O72SQ69Gob",
        "colab_type": "text"
      },
      "source": [
        "# **Training The Model**"
      ]
    },
    {
      "cell_type": "code",
      "metadata": {
        "id": "vZ8bcjRy9GQC",
        "colab_type": "code",
        "colab": {
          "base_uri": "https://localhost:8080/",
          "height": 33
        },
        "outputId": "ce32a47d-8f64-4b29-e376-b44c396e5ec0"
      },
      "source": [
        "# Get the labels that are associated with each index\n",
        "print(valid_batches.class_indices)"
      ],
      "execution_count": null,
      "outputs": [
        {
          "output_type": "stream",
          "text": [
            "{'bacterial': 0, 'normal': 1, 'viral': 2}\n"
          ],
          "name": "stdout"
        }
      ]
    },
    {
      "cell_type": "code",
      "metadata": {
        "id": "SlCuvpg19iEE",
        "colab_type": "code",
        "colab": {}
      },
      "source": [
        "# Add weights to try to make the model more sensitive to a specific class\n",
        "\n",
        "class_weights={\n",
        "    0: 1.0, # bacterial\n",
        "    1: 1.0, # normal\n",
        "    2: 1.0, # viral\n",
        "}"
      ],
      "execution_count": null,
      "outputs": []
    },
    {
      "cell_type": "code",
      "metadata": {
        "id": "ecsO9-tl9mcm",
        "colab_type": "code",
        "colab": {
          "base_uri": "https://localhost:8080/",
          "height": 1000
        },
        "outputId": "4c47bb09-8d79-42b0-8c88-4dd38d666b99"
      },
      "source": [
        "filepath = \"model.h5\"\n",
        "checkpoint = ModelCheckpoint(filepath, monitor='val_categorical_accuracy', verbose=1, \n",
        "                             save_best_only=True, mode='max')\n",
        "\n",
        "reduce_lr = ReduceLROnPlateau(monitor='val_categorical_accuracy', factor=0.5, patience=2, \n",
        "                                   verbose=1, mode='max', min_lr=0.00001)\n",
        "                              \n",
        "                              \n",
        "callbacks_list = [checkpoint, reduce_lr]\n",
        "\n",
        "history = model.fit_generator(train_batches, steps_per_epoch=train_steps, \n",
        "                              #class_weight=class_weights,\n",
        "                    validation_data=valid_batches,\n",
        "                    validation_steps=val_steps,\n",
        "                    epochs=30, verbose=1,\n",
        "                   callbacks=callbacks_list)"
      ],
      "execution_count": null,
      "outputs": [
        {
          "output_type": "stream",
          "text": [
            "Epoch 1/30\n",
            "499/499 [==============================] - 116s 232ms/step - loss: 0.6688 - categorical_accuracy: 0.7341 - val_loss: 0.1229 - val_categorical_accuracy: 0.6992\n",
            "\n",
            "Epoch 00001: val_categorical_accuracy improved from -inf to 0.69921, saving model to model.h5\n",
            "Epoch 2/30\n",
            "499/499 [==============================] - 112s 223ms/step - loss: 0.4899 - categorical_accuracy: 0.7966 - val_loss: 0.1643 - val_categorical_accuracy: 0.8036\n",
            "\n",
            "Epoch 00002: val_categorical_accuracy improved from 0.69921 to 0.80363, saving model to model.h5\n",
            "Epoch 3/30\n",
            "499/499 [==============================] - 112s 224ms/step - loss: 0.4530 - categorical_accuracy: 0.8166 - val_loss: 0.0232 - val_categorical_accuracy: 0.7503\n",
            "\n",
            "Epoch 00003: val_categorical_accuracy did not improve from 0.80363\n",
            "Epoch 4/30\n",
            "499/499 [==============================] - 113s 226ms/step - loss: 0.3832 - categorical_accuracy: 0.8345 - val_loss: 0.1112 - val_categorical_accuracy: 0.7162\n",
            "\n",
            "Epoch 00004: val_categorical_accuracy did not improve from 0.80363\n",
            "\n",
            "Epoch 00004: ReduceLROnPlateau reducing learning rate to 0.0005000000237487257.\n",
            "Epoch 5/30\n",
            "499/499 [==============================] - 112s 225ms/step - loss: 0.3453 - categorical_accuracy: 0.8587 - val_loss: 0.4644 - val_categorical_accuracy: 0.8116\n",
            "\n",
            "Epoch 00005: val_categorical_accuracy improved from 0.80363 to 0.81158, saving model to model.h5\n",
            "Epoch 6/30\n",
            "499/499 [==============================] - 113s 227ms/step - loss: 0.3166 - categorical_accuracy: 0.8723 - val_loss: 0.0083 - val_categorical_accuracy: 0.7911\n",
            "\n",
            "Epoch 00006: val_categorical_accuracy did not improve from 0.81158\n",
            "Epoch 7/30\n",
            "499/499 [==============================] - 112s 225ms/step - loss: 0.2463 - categorical_accuracy: 0.9014 - val_loss: 0.0129 - val_categorical_accuracy: 0.7412\n",
            "\n",
            "Epoch 00007: val_categorical_accuracy did not improve from 0.81158\n",
            "\n",
            "Epoch 00007: ReduceLROnPlateau reducing learning rate to 0.0002500000118743628.\n",
            "Epoch 8/30\n",
            "499/499 [==============================] - 111s 223ms/step - loss: 0.2123 - categorical_accuracy: 0.9184 - val_loss: 0.4730 - val_categorical_accuracy: 0.7719\n",
            "\n",
            "Epoch 00008: val_categorical_accuracy did not improve from 0.81158\n",
            "Epoch 9/30\n",
            "499/499 [==============================] - 113s 225ms/step - loss: 0.1875 - categorical_accuracy: 0.9212 - val_loss: 0.8898 - val_categorical_accuracy: 0.8014\n",
            "\n",
            "Epoch 00009: val_categorical_accuracy did not improve from 0.81158\n",
            "\n",
            "Epoch 00009: ReduceLROnPlateau reducing learning rate to 0.0001250000059371814.\n",
            "Epoch 10/30\n",
            "499/499 [==============================] - 112s 225ms/step - loss: 0.0890 - categorical_accuracy: 0.9687 - val_loss: 1.9735 - val_categorical_accuracy: 0.7548\n",
            "\n",
            "Epoch 00010: val_categorical_accuracy did not improve from 0.81158\n",
            "Epoch 11/30\n",
            "499/499 [==============================] - 113s 226ms/step - loss: 0.0660 - categorical_accuracy: 0.9790 - val_loss: 1.9534 - val_categorical_accuracy: 0.7650\n",
            "\n",
            "Epoch 00011: val_categorical_accuracy did not improve from 0.81158\n",
            "\n",
            "Epoch 00011: ReduceLROnPlateau reducing learning rate to 6.25000029685907e-05.\n",
            "Epoch 12/30\n",
            "499/499 [==============================] - 113s 227ms/step - loss: 0.0545 - categorical_accuracy: 0.9814 - val_loss: 2.4469 - val_categorical_accuracy: 0.7719\n",
            "\n",
            "Epoch 00012: val_categorical_accuracy did not improve from 0.81158\n",
            "Epoch 13/30\n",
            "499/499 [==============================] - 112s 225ms/step - loss: 0.0367 - categorical_accuracy: 0.9878 - val_loss: 1.1866 - val_categorical_accuracy: 0.7843\n",
            "\n",
            "Epoch 00013: val_categorical_accuracy did not improve from 0.81158\n",
            "\n",
            "Epoch 00013: ReduceLROnPlateau reducing learning rate to 3.125000148429535e-05.\n",
            "Epoch 14/30\n",
            "499/499 [==============================] - 113s 226ms/step - loss: 0.0229 - categorical_accuracy: 0.9946 - val_loss: 0.0306 - val_categorical_accuracy: 0.7900\n",
            "\n",
            "Epoch 00014: val_categorical_accuracy did not improve from 0.81158\n",
            "Epoch 15/30\n",
            "499/499 [==============================] - 113s 227ms/step - loss: 0.0248 - categorical_accuracy: 0.9932 - val_loss: 0.0025 - val_categorical_accuracy: 0.7911\n",
            "\n",
            "Epoch 00015: val_categorical_accuracy did not improve from 0.81158\n",
            "\n",
            "Epoch 00015: ReduceLROnPlateau reducing learning rate to 1.5625000742147677e-05.\n",
            "Epoch 16/30\n",
            "499/499 [==============================] - 112s 225ms/step - loss: 0.0193 - categorical_accuracy: 0.9946 - val_loss: 1.2898e-04 - val_categorical_accuracy: 0.7877\n",
            "\n",
            "Epoch 00016: val_categorical_accuracy did not improve from 0.81158\n",
            "Epoch 17/30\n",
            "499/499 [==============================] - 114s 228ms/step - loss: 0.0162 - categorical_accuracy: 0.9956 - val_loss: 0.0075 - val_categorical_accuracy: 0.7855\n",
            "\n",
            "Epoch 00017: val_categorical_accuracy did not improve from 0.81158\n",
            "\n",
            "Epoch 00017: ReduceLROnPlateau reducing learning rate to 1e-05.\n",
            "Epoch 18/30\n",
            "499/499 [==============================] - 113s 226ms/step - loss: 0.0167 - categorical_accuracy: 0.9962 - val_loss: 0.0178 - val_categorical_accuracy: 0.7843\n",
            "\n",
            "Epoch 00018: val_categorical_accuracy did not improve from 0.81158\n",
            "Epoch 19/30\n",
            "499/499 [==============================] - 113s 226ms/step - loss: 0.0140 - categorical_accuracy: 0.9962 - val_loss: 0.0026 - val_categorical_accuracy: 0.7866\n",
            "\n",
            "Epoch 00019: val_categorical_accuracy did not improve from 0.81158\n",
            "Epoch 20/30\n",
            "499/499 [==============================] - 113s 227ms/step - loss: 0.0131 - categorical_accuracy: 0.9960 - val_loss: 8.3446e-07 - val_categorical_accuracy: 0.7843\n",
            "\n",
            "Epoch 00020: val_categorical_accuracy did not improve from 0.81158\n",
            "Epoch 21/30\n",
            "499/499 [==============================] - 113s 226ms/step - loss: 0.0112 - categorical_accuracy: 0.9974 - val_loss: 4.6719e-04 - val_categorical_accuracy: 0.7889\n",
            "\n",
            "Epoch 00021: val_categorical_accuracy did not improve from 0.81158\n",
            "Epoch 22/30\n",
            "499/499 [==============================] - 113s 226ms/step - loss: 0.0128 - categorical_accuracy: 0.9966 - val_loss: 0.0018 - val_categorical_accuracy: 0.7934\n",
            "\n",
            "Epoch 00022: val_categorical_accuracy did not improve from 0.81158\n",
            "Epoch 23/30\n",
            "499/499 [==============================] - 113s 227ms/step - loss: 0.0104 - categorical_accuracy: 0.9978 - val_loss: 0.0122 - val_categorical_accuracy: 0.7934\n",
            "\n",
            "Epoch 00023: val_categorical_accuracy did not improve from 0.81158\n",
            "Epoch 24/30\n",
            "499/499 [==============================] - 113s 226ms/step - loss: 0.0145 - categorical_accuracy: 0.9956 - val_loss: 5.6504e-05 - val_categorical_accuracy: 0.7889\n",
            "\n",
            "Epoch 00024: val_categorical_accuracy did not improve from 0.81158\n",
            "Epoch 25/30\n",
            "499/499 [==============================] - 110s 221ms/step - loss: 0.0130 - categorical_accuracy: 0.9958 - val_loss: 5.2843e-04 - val_categorical_accuracy: 0.7855\n",
            "\n",
            "Epoch 00025: val_categorical_accuracy did not improve from 0.81158\n",
            "Epoch 26/30\n",
            "499/499 [==============================] - 106s 213ms/step - loss: 0.0108 - categorical_accuracy: 0.9978 - val_loss: 2.9176 - val_categorical_accuracy: 0.7821\n",
            "\n",
            "Epoch 00026: val_categorical_accuracy did not improve from 0.81158\n",
            "Epoch 27/30\n",
            "499/499 [==============================] - 105s 210ms/step - loss: 0.0119 - categorical_accuracy: 0.9968 - val_loss: 5.1139 - val_categorical_accuracy: 0.7798\n",
            "\n",
            "Epoch 00027: val_categorical_accuracy did not improve from 0.81158\n",
            "Epoch 28/30\n",
            "499/499 [==============================] - 105s 210ms/step - loss: 0.0096 - categorical_accuracy: 0.9974 - val_loss: 0.0021 - val_categorical_accuracy: 0.7877\n",
            "\n",
            "Epoch 00028: val_categorical_accuracy did not improve from 0.81158\n",
            "Epoch 29/30\n",
            "499/499 [==============================] - 106s 212ms/step - loss: 0.0103 - categorical_accuracy: 0.9968 - val_loss: 1.9559 - val_categorical_accuracy: 0.7923\n",
            "\n",
            "Epoch 00029: val_categorical_accuracy did not improve from 0.81158\n",
            "Epoch 30/30\n",
            "499/499 [==============================] - 105s 211ms/step - loss: 0.0069 - categorical_accuracy: 0.9992 - val_loss: 2.4837 - val_categorical_accuracy: 0.7877\n",
            "\n",
            "Epoch 00030: val_categorical_accuracy did not improve from 0.81158\n"
          ],
          "name": "stdout"
        }
      ]
    },
    {
      "cell_type": "code",
      "metadata": {
        "id": "zM7UsZ48QYEn",
        "colab_type": "code",
        "colab": {
          "base_uri": "https://localhost:8080/",
          "height": 33
        },
        "outputId": "2da39946-df2b-45bf-944c-636a8ee63fdb"
      },
      "source": [
        "# get the metric names so we can use evaulate_generator\n",
        "model.metrics_names"
      ],
      "execution_count": null,
      "outputs": [
        {
          "output_type": "execute_result",
          "data": {
            "text/plain": [
              "['loss', 'categorical_accuracy']"
            ]
          },
          "metadata": {
            "tags": []
          },
          "execution_count": 55
        }
      ]
    },
    {
      "cell_type": "code",
      "metadata": {
        "id": "8NrnQGE-QZZP",
        "colab_type": "code",
        "colab": {
          "base_uri": "https://localhost:8080/",
          "height": 50
        },
        "outputId": "e3b0c3f2-8a4c-4aac-a14c-0d225d0158da"
      },
      "source": [
        "# Here the last epoch will be used.\n",
        "\n",
        "val_loss, val_cat_acc = \\\n",
        "model.evaluate_generator(test_batches, \n",
        "                        steps=val_steps)\n",
        "\n",
        "print('val_loss:', val_loss)\n",
        "print('val_cat_acc:', val_cat_acc)"
      ],
      "execution_count": null,
      "outputs": [
        {
          "output_type": "stream",
          "text": [
            "val_loss: 0.15149864554405212\n",
            "val_cat_acc: 0.7877411842346191\n"
          ],
          "name": "stdout"
        }
      ]
    },
    {
      "cell_type": "code",
      "metadata": {
        "id": "w5zelIVlQejC",
        "colab_type": "code",
        "colab": {
          "base_uri": "https://localhost:8080/",
          "height": 50
        },
        "outputId": "b08fa586-2a7c-4a17-e5b1-c779dc437a01"
      },
      "source": [
        "\n",
        "# Here the best epoch will be used.\n",
        "\n",
        "model.load_weights('model.h5')\n",
        "\n",
        "val_loss, val_cat_acc = \\\n",
        "model.evaluate_generator(test_batches, \n",
        "                        steps=val_steps)\n",
        "\n",
        "print('val_loss:', val_loss)\n",
        "print('val_cat_acc:', val_cat_acc)"
      ],
      "execution_count": null,
      "outputs": [
        {
          "output_type": "stream",
          "text": [
            "val_loss: 0.1500806361436844\n",
            "val_cat_acc: 0.8115777373313904\n"
          ],
          "name": "stdout"
        }
      ]
    },
    {
      "cell_type": "code",
      "metadata": {
        "id": "GXlEy_Btr0el",
        "colab_type": "code",
        "colab": {
          "base_uri": "https://localhost:8080/",
          "height": 577
        },
        "outputId": "1e4cf5f4-d069-40eb-a1f0-5b11835c23b8"
      },
      "source": [
        "# display the loss and accuracy curves\n",
        "\n",
        "import matplotlib.pyplot as plt\n",
        "\n",
        "acc = history.history['categorical_accuracy']\n",
        "val_acc = history.history['val_categorical_accuracy']\n",
        "loss = history.history['loss']\n",
        "val_loss = history.history['val_loss']\n",
        "\n",
        "epochs = range(1, len(acc) + 1)\n",
        "\n",
        "plt.plot(epochs, loss, 'bo', label='Training loss')\n",
        "plt.plot(epochs, val_loss, 'b', label='Validation loss')\n",
        "plt.title('Training and validation loss')\n",
        "plt.legend()\n",
        "plt.figure()\n",
        "\n",
        "plt.plot(epochs, acc, 'bo', label='Training cat acc')\n",
        "plt.plot(epochs, val_acc, 'b', label='Validation cat acc')\n",
        "plt.title('Training and validation cat accuracy')\n",
        "plt.legend()\n",
        "plt.figure()"
      ],
      "execution_count": null,
      "outputs": [
        {
          "output_type": "execute_result",
          "data": {
            "text/plain": [
              "<Figure size 432x288 with 0 Axes>"
            ]
          },
          "metadata": {
            "tags": []
          },
          "execution_count": 58
        },
        {
          "output_type": "display_data",
          "data": {
            "image/png": "[encoded data removed]",
            "text/plain": [
              "<Figure size 432x288 with 1 Axes>"
            ]
          },
          "metadata": {
            "tags": [],
            "needs_background": "light"
          }
        },
        {
          "output_type": "display_data",
          "data": {
            "image/png": "[encoded data removed]",
            "text/plain": [
              "<Figure size 432x288 with 1 Axes>"
            ]
          },
          "metadata": {
            "tags": [],
            "needs_background": "light"
          }
        },
        {
          "output_type": "display_data",
          "data": {
            "text/plain": [
              "<Figure size 432x288 with 0 Axes>"
            ]
          },
          "metadata": {
            "tags": []
          }
        }
      ]
    },
    {
      "cell_type": "code",
      "metadata": {
        "id": "Ka5xjVHzr5Hb",
        "colab_type": "code",
        "colab": {}
      },
      "source": [
        "# Get the labels of the test images.\n",
        "\n",
        "test_labels = test_batches.classes"
      ],
      "execution_count": null,
      "outputs": []
    },
    {
      "cell_type": "code",
      "metadata": {
        "id": "j9SAm9P4sAYc",
        "colab_type": "code",
        "colab": {
          "base_uri": "https://localhost:8080/",
          "height": 683
        },
        "outputId": "f363fefa-6a3a-4bd4-980e-5d8b7ee80ae5"
      },
      "source": [
        "# We need these to plot the confusion matrix.\n",
        "test_labels"
      ],
      "execution_count": null,
      "outputs": [
        {
          "output_type": "execute_result",
          "data": {
            "text/plain": [
              "array([0, 0, 0, 0, 0, 0, 0, 0, 0, 0, 0, 0, 0, 0, 0, 0, 0, 0, 0, 0, 0, 0,\n",
              "       0, 0, 0, 0, 0, 0, 0, 0, 0, 0, 0, 0, 0, 0, 0, 0, 0, 0, 0, 0, 0, 0,\n",
              "       0, 0, 0, 0, 0, 0, 0, 0, 0, 0, 0, 0, 0, 0, 0, 0, 0, 0, 0, 0, 0, 0,\n",
              "       0, 0, 0, 0, 0, 0, 0, 0, 0, 0, 0, 0, 0, 0, 0, 0, 0, 0, 0, 0, 0, 0,\n",
              "       0, 0, 0, 0, 0, 0, 0, 0, 0, 0, 0, 0, 0, 0, 0, 0, 0, 0, 0, 0, 0, 0,\n",
              "       0, 0, 0, 0, 0, 0, 0, 0, 0, 0, 0, 0, 0, 0, 0, 0, 0, 0, 0, 0, 0, 0,\n",
              "       0, 0, 0, 0, 0, 0, 0, 0, 0, 0, 0, 0, 0, 0, 0, 0, 0, 0, 0, 0, 0, 0,\n",
              "       0, 0, 0, 0, 0, 0, 0, 0, 0, 0, 0, 0, 0, 0, 0, 0, 0, 0, 0, 0, 0, 0,\n",
              "       0, 0, 0, 0, 0, 0, 0, 0, 0, 0, 0, 0, 0, 0, 0, 0, 0, 0, 0, 0, 0, 0,\n",
              "       0, 0, 0, 0, 0, 0, 0, 0, 0, 0, 0, 0, 0, 0, 0, 0, 0, 0, 0, 0, 0, 0,\n",
              "       0, 0, 0, 0, 0, 0, 0, 0, 0, 0, 0, 0, 0, 0, 0, 0, 0, 0, 0, 0, 0, 0,\n",
              "       0, 0, 0, 0, 0, 0, 0, 0, 0, 0, 0, 0, 0, 0, 0, 0, 0, 0, 0, 0, 0, 0,\n",
              "       0, 0, 0, 0, 0, 0, 0, 0, 0, 0, 0, 0, 0, 0, 0, 0, 0, 0, 0, 0, 0, 0,\n",
              "       0, 0, 0, 0, 0, 0, 0, 0, 0, 0, 0, 0, 0, 0, 0, 0, 0, 0, 0, 0, 0, 0,\n",
              "       0, 0, 0, 0, 0, 0, 0, 0, 0, 0, 0, 0, 0, 0, 0, 0, 0, 0, 0, 0, 0, 0,\n",
              "       0, 0, 0, 0, 0, 0, 0, 0, 0, 0, 0, 0, 0, 0, 0, 0, 0, 0, 0, 0, 0, 0,\n",
              "       0, 0, 0, 0, 0, 0, 0, 0, 0, 0, 0, 0, 0, 0, 0, 0, 0, 0, 0, 0, 0, 0,\n",
              "       0, 0, 0, 0, 0, 0, 0, 0, 0, 0, 0, 0, 0, 0, 0, 0, 0, 0, 0, 0, 0, 0,\n",
              "       0, 0, 0, 0, 0, 0, 0, 0, 0, 0, 0, 0, 0, 0, 0, 0, 0, 0, 0, 0, 0, 0,\n",
              "       1, 1, 1, 1, 1, 1, 1, 1, 1, 1, 1, 1, 1, 1, 1, 1, 1, 1, 1, 1, 1, 1,\n",
              "       1, 1, 1, 1, 1, 1, 1, 1, 1, 1, 1, 1, 1, 1, 1, 1, 1, 1, 1, 1, 1, 1,\n",
              "       1, 1, 1, 1, 1, 1, 1, 1, 1, 1, 1, 1, 1, 1, 1, 1, 1, 1, 1, 1, 1, 1,\n",
              "       1, 1, 1, 1, 1, 1, 1, 1, 1, 1, 1, 1, 1, 1, 1, 1, 1, 1, 1, 1, 1, 1,\n",
              "       1, 1, 1, 1, 1, 1, 1, 1, 1, 1, 1, 1, 1, 1, 1, 1, 1, 1, 1, 1, 1, 1,\n",
              "       1, 1, 1, 1, 1, 1, 1, 1, 1, 1, 1, 1, 1, 1, 1, 1, 1, 1, 1, 1, 1, 1,\n",
              "       1, 1, 1, 1, 1, 1, 1, 1, 1, 1, 1, 1, 1, 1, 1, 1, 1, 1, 1, 1, 1, 1,\n",
              "       1, 1, 1, 1, 1, 1, 1, 1, 1, 1, 1, 1, 1, 1, 1, 1, 1, 1, 1, 1, 1, 1,\n",
              "       1, 1, 1, 1, 1, 1, 1, 1, 1, 1, 1, 1, 1, 1, 1, 1, 1, 1, 1, 1, 1, 1,\n",
              "       1, 1, 1, 1, 1, 1, 1, 1, 1, 1, 1, 1, 1, 1, 1, 1, 1, 1, 1, 1, 1, 1,\n",
              "       1, 1, 1, 1, 1, 1, 1, 1, 1, 1, 1, 1, 1, 1, 1, 1, 1, 1, 2, 2, 2, 2,\n",
              "       2, 2, 2, 2, 2, 2, 2, 2, 2, 2, 2, 2, 2, 2, 2, 2, 2, 2, 2, 2, 2, 2,\n",
              "       2, 2, 2, 2, 2, 2, 2, 2, 2, 2, 2, 2, 2, 2, 2, 2, 2, 2, 2, 2, 2, 2,\n",
              "       2, 2, 2, 2, 2, 2, 2, 2, 2, 2, 2, 2, 2, 2, 2, 2, 2, 2, 2, 2, 2, 2,\n",
              "       2, 2, 2, 2, 2, 2, 2, 2, 2, 2, 2, 2, 2, 2, 2, 2, 2, 2, 2, 2, 2, 2,\n",
              "       2, 2, 2, 2, 2, 2, 2, 2, 2, 2, 2, 2, 2, 2, 2, 2, 2, 2, 2, 2, 2, 2,\n",
              "       2, 2, 2, 2, 2, 2, 2, 2, 2, 2, 2, 2, 2, 2, 2, 2, 2, 2, 2, 2, 2, 2,\n",
              "       2, 2, 2, 2, 2, 2, 2, 2, 2, 2, 2, 2, 2, 2, 2, 2, 2, 2, 2, 2, 2, 2,\n",
              "       2, 2, 2, 2, 2, 2, 2, 2, 2, 2, 2, 2, 2, 2, 2, 2, 2, 2, 2, 2, 2, 2,\n",
              "       2, 2, 2, 2, 2, 2, 2, 2, 2, 2, 2, 2, 2, 2, 2, 2, 2, 2, 2, 2, 2, 2,\n",
              "       2, 2, 2, 2, 2, 2, 2, 2, 2, 2, 2, 2, 2, 2, 2, 2, 2, 2, 2, 2, 2, 2,\n",
              "       2], dtype=int32)"
            ]
          },
          "metadata": {
            "tags": []
          },
          "execution_count": 61
        }
      ]
    },
    {
      "cell_type": "code",
      "metadata": {
        "id": "Sahj4D_5sEuo",
        "colab_type": "code",
        "colab": {
          "base_uri": "https://localhost:8080/",
          "height": 33
        },
        "outputId": "b9b9ffae-da4e-4f61-e602-f613c947d260"
      },
      "source": [
        "# Print the label associated with each class\n",
        "test_batches.class_indices"
      ],
      "execution_count": null,
      "outputs": [
        {
          "output_type": "execute_result",
          "data": {
            "text/plain": [
              "{'bacterial': 0, 'normal': 1, 'viral': 2}"
            ]
          },
          "metadata": {
            "tags": []
          },
          "execution_count": 63
        }
      ]
    },
    {
      "cell_type": "code",
      "metadata": {
        "id": "n9ccF6hbsKD9",
        "colab_type": "code",
        "colab": {
          "base_uri": "https://localhost:8080/",
          "height": 33
        },
        "outputId": "7953b673-1d83-457a-8012-fcfd70e429d1"
      },
      "source": [
        "# make a prediction\n",
        "predictions = model.predict_generator(test_batches, steps=val_steps, verbose=1)"
      ],
      "execution_count": null,
      "outputs": [
        {
          "output_type": "stream",
          "text": [
            "89/89 [==============================] - 13s 146ms/step\n"
          ],
          "name": "stdout"
        }
      ]
    },
    {
      "cell_type": "code",
      "metadata": {
        "id": "etj_BloRsa5U",
        "colab_type": "code",
        "colab": {
          "base_uri": "https://localhost:8080/",
          "height": 33
        },
        "outputId": "a63229c9-983d-493f-b589-6fc638cd2788"
      },
      "source": [
        "test_labels.shape"
      ],
      "execution_count": null,
      "outputs": [
        {
          "output_type": "execute_result",
          "data": {
            "text/plain": [
              "(881,)"
            ]
          },
          "metadata": {
            "tags": []
          },
          "execution_count": 65
        }
      ]
    },
    {
      "cell_type": "code",
      "metadata": {
        "id": "1aQgrg_LsdUc",
        "colab_type": "code",
        "colab": {}
      },
      "source": [
        "def plot_confusion_matrix(cm, classes,\n",
        "                          normalize=False,\n",
        "                          title='Confusion matrix',\n",
        "                          cmap=plt.cm.Blues):\n",
        "    \"\"\"\n",
        "    This function prints and plots the confusion matrix.\n",
        "    Normalization can be applied by setting `normalize=True`.\n",
        "    \"\"\"\n",
        "    if normalize:\n",
        "        cm = cm.astype('float') / cm.sum(axis=1)[:, np.newaxis]\n",
        "        print(\"Normalized confusion matrix\")\n",
        "    else:\n",
        "        print('Confusion matrix, without normalization')\n",
        "\n",
        "    print(cm)\n",
        "\n",
        "    plt.imshow(cm, interpolation='nearest', cmap=cmap)\n",
        "    plt.title(title)\n",
        "    plt.colorbar()\n",
        "    tick_marks = np.arange(len(classes))\n",
        "    plt.xticks(tick_marks, classes, rotation=45)\n",
        "    plt.yticks(tick_marks, classes)\n",
        "\n",
        "    fmt = '.2f' if normalize else 'd'\n",
        "    thresh = cm.max() / 2.\n",
        "    for i, j in itertools.product(range(cm.shape[0]), range(cm.shape[1])):\n",
        "        plt.text(j, i, format(cm[i, j], fmt),\n",
        "                 horizontalalignment=\"center\",\n",
        "                 color=\"white\" if cm[i, j] > thresh else \"black\")\n",
        "\n",
        "    plt.ylabel('True label')\n",
        "    plt.xlabel('Predicted label')\n",
        "    plt.tight_layout()"
      ],
      "execution_count": null,
      "outputs": []
    },
    {
      "cell_type": "code",
      "metadata": {
        "id": "zOCER7G-sxVL",
        "colab_type": "code",
        "colab": {}
      },
      "source": [
        "# argmax returns the index of the max value in a row\n",
        "cm = confusion_matrix(test_labels, predictions.argmax(axis=1))"
      ],
      "execution_count": null,
      "outputs": []
    },
    {
      "cell_type": "code",
      "metadata": {
        "id": "XXajbLv2s2tR",
        "colab_type": "code",
        "colab": {
          "base_uri": "https://localhost:8080/",
          "height": 33
        },
        "outputId": "0dfb2a19-0fba-4136-8b10-079f591b061b"
      },
      "source": [
        "test_batches.class_indices"
      ],
      "execution_count": null,
      "outputs": [
        {
          "output_type": "execute_result",
          "data": {
            "text/plain": [
              "{'bacterial': 0, 'normal': 1, 'viral': 2}"
            ]
          },
          "metadata": {
            "tags": []
          },
          "execution_count": 68
        }
      ]
    },
    {
      "cell_type": "code",
      "metadata": {
        "id": "HOqkh9hzs8jI",
        "colab_type": "code",
        "colab": {
          "base_uri": "https://localhost:8080/",
          "height": 362
        },
        "outputId": "e04ab41b-ae73-4572-e564-d3abef0e589c"
      },
      "source": [
        "# order shown above.\n",
        "cm_plot_labels = ['bacterial', 'normal', 'viral']\n",
        "\n",
        "plot_confusion_matrix(cm, cm_plot_labels, title='Confusion Matrix')"
      ],
      "execution_count": null,
      "outputs": [
        {
          "output_type": "stream",
          "text": [
            "Confusion matrix, without normalization\n",
            "[[334   9  75]\n",
            " [  1 227  10]\n",
            " [ 60  11 154]]\n"
          ],
          "name": "stdout"
        },
        {
          "output_type": "display_data",
          "data": {
            "image/png": "[encoded data removed]",
            "text/plain": [
              "<Figure size 432x288 with 2 Axes>"
            ]
          },
          "metadata": {
            "tags": [],
            "needs_background": "light"
          }
        }
      ]
    },
    {
      "cell_type": "code",
      "metadata": {
        "id": "iusFj7FytMJl",
        "colab_type": "code",
        "colab": {}
      },
      "source": [
        "# Get the filenames, labels and associated predictions\n",
        "\n",
        "# This outputs the sequence in which the generator processed the test images\n",
        "test_filenames = test_batches.filenames\n",
        "\n",
        "# Get the true labels\n",
        "y_true = test_batches.classes\n",
        "\n",
        "# Get the predicted labels\n",
        "y_pred = predictions.argmax(axis=1)"
      ],
      "execution_count": null,
      "outputs": []
    },
    {
      "cell_type": "code",
      "metadata": {
        "id": "HqRdwLIItR7O",
        "colab_type": "code",
        "colab": {
          "base_uri": "https://localhost:8080/",
          "height": 180
        },
        "outputId": "c2cd5eb9-c366-4475-ef3e-5327fc1598ca"
      },
      "source": [
        "from sklearn.metrics import classification_report\n",
        "\n",
        "# Generate a classification report\n",
        "\n",
        "\n",
        "report = classification_report(y_true, y_pred, target_names=cm_plot_labels)\n",
        "\n",
        "print(report)\n"
      ],
      "execution_count": null,
      "outputs": [
        {
          "output_type": "stream",
          "text": [
            "              precision    recall  f1-score   support\n",
            "\n",
            "   bacterial       0.85      0.80      0.82       418\n",
            "      normal       0.92      0.95      0.94       238\n",
            "       viral       0.64      0.68      0.66       225\n",
            "\n",
            "    accuracy                           0.81       881\n",
            "   macro avg       0.80      0.81      0.81       881\n",
            "weighted avg       0.81      0.81      0.81       881\n",
            "\n"
          ],
          "name": "stdout"
        }
      ]
    },
    {
      "cell_type": "markdown",
      "metadata": {
        "id": "UhhYc-U-tl3Q",
        "colab_type": "text"
      },
      "source": [
        "# **End of model building and evaluation**"
      ]
    },
    {
      "cell_type": "code",
      "metadata": {
        "id": "rklYkqaMwERk",
        "colab_type": "code",
        "colab": {}
      },
      "source": [
        "model.save('model.h5')"
      ],
      "execution_count": null,
      "outputs": []
    }
  ]
}